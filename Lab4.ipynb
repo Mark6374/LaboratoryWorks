{
 "cells": [
  {
   "cell_type": "markdown",
   "id": "891249a8-fd2b-4a6f-9a83-8b4606ccd00f",
   "metadata": {},
   "source": [
    "Python Date\n"
   ]
  },
  {
   "cell_type": "code",
   "execution_count": 2,
   "id": "8568d617-38c8-4f34-81a1-87c4da25046b",
   "metadata": {},
   "outputs": [
    {
     "name": "stdout",
     "output_type": "stream",
     "text": [
      "2025-02-14 00:12:45\n"
     ]
    }
   ],
   "source": [
    "from datetime import datetime, timedelta\n",
    "\n",
    "current_date = datetime.now()\n",
    "new_date = current_date - timedelta(days=5)\n",
    "print(new_date.strftime(\"%Y-%m-%d %H:%M:%S\"))"
   ]
  },
  {
   "cell_type": "code",
   "execution_count": 4,
   "id": "52f3a329-4b22-4fa6-899d-3c5112bcce7e",
   "metadata": {},
   "outputs": [
    {
     "name": "stdout",
     "output_type": "stream",
     "text": [
      "Yesterday: 2025-02-18\n",
      "Today: 2025-02-19\n",
      "Tomorrow: 2025-02-20\n"
     ]
    }
   ],
   "source": [
    "from datetime import datetime, timedelta\n",
    "\n",
    "today = datetime.now().date()\n",
    "yesterday = today - timedelta(days=1)\n",
    "tomorrow = today + timedelta(days=1)\n",
    "\n",
    "print(\"Yesterday:\", yesterday)\n",
    "print(\"Today:\", today)\n",
    "print(\"Tomorrow:\", tomorrow)"
   ]
  },
  {
   "cell_type": "code",
   "execution_count": 6,
   "id": "e8976dd4-2f4c-4e19-9fcf-63064ec26bb0",
   "metadata": {},
   "outputs": [
    {
     "name": "stdout",
     "output_type": "stream",
     "text": [
      "2025-02-19 00:13:02\n"
     ]
    }
   ],
   "source": [
    "from datetime import datetime\n",
    "\n",
    "current_time = datetime.now().replace(microsecond=0)\n",
    "print(current_time)"
   ]
  },
  {
   "cell_type": "code",
   "execution_count": 10,
   "id": "b98a211f-ece4-471b-8d4c-8eea24325d2a",
   "metadata": {},
   "outputs": [
    {
     "name": "stdout",
     "output_type": "stream",
     "text": [
      "Difference in seconds: 9000\n"
     ]
    }
   ],
   "source": [
    "from datetime import datetime\n",
    "\n",
    "date1 = datetime(2025, 2, 1, 12, 0, 0)\n",
    "date2 = datetime(2025, 2, 1, 14, 30, 0)\n",
    "\n",
    "difference = abs((date2 - date1).total_seconds())\n",
    "print(\"Difference in seconds:\", int(difference))"
   ]
  },
  {
   "cell_type": "markdown",
   "id": "6c3e4522-8dbc-461c-be60-ed62d4c9ec9c",
   "metadata": {},
   "source": [
    "Python Iterators and generators"
   ]
  },
  {
   "cell_type": "code",
   "execution_count": 15,
   "id": "38349750-8ee4-45ea-87ab-7a582fa75777",
   "metadata": {},
   "outputs": [
    {
     "name": "stdin",
     "output_type": "stream",
     "text": [
      " 12\n"
     ]
    },
    {
     "name": "stdout",
     "output_type": "stream",
     "text": [
      "0 1 4 9 16 25 36 49 64 81 100 121 144 "
     ]
    }
   ],
   "source": [
    "def square_generator(n):\n",
    "    for i in range(n + 1):\n",
    "        yield i ** 2\n",
    "\n",
    "N = int(input())\n",
    "for num in square_generator(N):\n",
    "    print(num, end=\" \")"
   ]
  },
  {
   "cell_type": "code",
   "execution_count": 17,
   "id": "f90bd820-cf13-4111-8d69-c5d50276d206",
   "metadata": {},
   "outputs": [
    {
     "name": "stdin",
     "output_type": "stream",
     "text": [
      " 10\n"
     ]
    },
    {
     "name": "stdout",
     "output_type": "stream",
     "text": [
      "0,2,4,6,8,10\n"
     ]
    }
   ],
   "source": [
    "def even_generator(n):\n",
    "    for i in range(0, n + 1, 2):\n",
    "        yield i\n",
    "\n",
    "N = int(input())\n",
    "print(\",\".join(map(str, even_generator(N))))"
   ]
  },
  {
   "cell_type": "code",
   "execution_count": 21,
   "id": "e0b56342-c9b4-49db-8d7d-0b6e9b763f3d",
   "metadata": {},
   "outputs": [
    {
     "name": "stdin",
     "output_type": "stream",
     "text": [
      " 24\n"
     ]
    },
    {
     "name": "stdout",
     "output_type": "stream",
     "text": [
      "[0, 12, 24]\n"
     ]
    }
   ],
   "source": [
    "def divisible_by_3_and_4(n):\n",
    "    for i in range(n + 1):\n",
    "        if i % 3 == 0 and i % 4 == 0:\n",
    "            yield i\n",
    "\n",
    "N = int(input())\n",
    "print(list(divisible_by_3_and_4(N)))"
   ]
  },
  {
   "cell_type": "code",
   "execution_count": 23,
   "id": "fbaba9ca-3871-4cd7-8ff2-10cf7f756cf3",
   "metadata": {},
   "outputs": [
    {
     "name": "stdin",
     "output_type": "stream",
     "text": [
      " 2 10\n"
     ]
    },
    {
     "name": "stdout",
     "output_type": "stream",
     "text": [
      "4\n",
      "9\n",
      "16\n",
      "25\n",
      "36\n",
      "49\n",
      "64\n",
      "81\n",
      "100\n"
     ]
    }
   ],
   "source": [
    "def squares(a, b):\n",
    "    for i in range(a, b + 1):\n",
    "        yield i ** 2\n",
    "\n",
    "A, B = map(int, input().split())\n",
    "for num in squares(A, B):\n",
    "    print(num)"
   ]
  },
  {
   "cell_type": "code",
   "execution_count": 25,
   "id": "7c5c9e1e-d92b-4997-b585-b4345ab68aec",
   "metadata": {},
   "outputs": [
    {
     "name": "stdin",
     "output_type": "stream",
     "text": [
      " 23\n"
     ]
    },
    {
     "name": "stdout",
     "output_type": "stream",
     "text": [
      "23 22 21 20 19 18 17 16 15 14 13 12 11 10 9 8 7 6 5 4 3 2 1 0 "
     ]
    }
   ],
   "source": [
    "def countdown(n):\n",
    "    for i in range(n, -1, -1):\n",
    "        yield i\n",
    "\n",
    "N = int(input())\n",
    "for num in countdown(N):\n",
    "    print(num, end=\" \")"
   ]
  },
  {
   "cell_type": "markdown",
   "id": "78bc1bc0-1406-4eb9-8ca4-db03fc8ab363",
   "metadata": {},
   "source": [
    "Python Math Library"
   ]
  },
  {
   "cell_type": "code",
   "execution_count": 30,
   "id": "8eaf3ab3-52f9-4c54-90de-a2b9b77c5cae",
   "metadata": {},
   "outputs": [
    {
     "name": "stdin",
     "output_type": "stream",
     "text": [
      " 180\n"
     ]
    },
    {
     "name": "stdout",
     "output_type": "stream",
     "text": [
      "3.141593\n"
     ]
    }
   ],
   "source": [
    "import math\n",
    "\n",
    "def degrees_to_radians(degrees):\n",
    "    return degrees * (math.pi / 180)\n",
    "\n",
    "degree = float(input())\n",
    "print(round(degrees_to_radians(degree), 6))\n"
   ]
  },
  {
   "cell_type": "code",
   "execution_count": 32,
   "id": "07865656-b498-4f0d-a2f0-2489fd132508",
   "metadata": {},
   "outputs": [
    {
     "name": "stdin",
     "output_type": "stream",
     "text": [
      "Height:  12\n",
      "first value:  3\n",
      "second value:  4\n"
     ]
    },
    {
     "name": "stdout",
     "output_type": "stream",
     "text": [
      "42.0\n"
     ]
    }
   ],
   "source": [
    "def trapezoid_area(height, base1, base2):\n",
    "    return 0.5 * (base1 + base2) * height\n",
    "\n",
    "height = float(input(\"Height: \"))\n",
    "base1 = float(input(\"first value: \"))\n",
    "base2 = float(input(\"second value: \"))\n",
    "\n",
    "print(trapezoid_area(height, base1, base2))"
   ]
  },
  {
   "cell_type": "code",
   "execution_count": 34,
   "id": "e9f74339-e45f-4f4c-857a-b4f884d333a9",
   "metadata": {},
   "outputs": [
    {
     "name": "stdin",
     "output_type": "stream",
     "text": [
      "number of sides:  3\n",
      "length of a side:  4\n"
     ]
    },
    {
     "name": "stdout",
     "output_type": "stream",
     "text": [
      "6.93\n"
     ]
    }
   ],
   "source": [
    "import math\n",
    "\n",
    "def regular_polygon_area(sides, length):\n",
    "    return (sides * (length ** 2)) / (4 * math.tan(math.pi / sides))\n",
    "\n",
    "sides = int(input(\"number of sides: \"))\n",
    "length = float(input(\"length of a side: \"))\n",
    "\n",
    "print(round(regular_polygon_area(sides, length), 2))"
   ]
  },
  {
   "cell_type": "code",
   "execution_count": 36,
   "id": "74b01622-2f88-4b67-9c26-13fea3c5488c",
   "metadata": {},
   "outputs": [
    {
     "name": "stdin",
     "output_type": "stream",
     "text": [
      "Length:  10\n",
      "Height:  12\n"
     ]
    },
    {
     "name": "stdout",
     "output_type": "stream",
     "text": [
      "120.0\n"
     ]
    }
   ],
   "source": [
    "def parallelogram_area(base, height):\n",
    "    return base * height\n",
    "\n",
    "base = float(input(\"Length: \"))\n",
    "height = float(input(\"Height: \"))\n",
    "\n",
    "print(parallelogram_area(base, height))"
   ]
  },
  {
   "cell_type": "markdown",
   "id": "5a93621f-2434-48f5-8c24-1703cd5f5c50",
   "metadata": {},
   "source": [
    "Python JSON parsing"
   ]
  },
  {
   "cell_type": "code",
   "execution_count": 42,
   "id": "8e74ba4f-ec7d-421a-a2c2-e40009426f96",
   "metadata": {},
   "outputs": [
    {
     "name": "stdout",
     "output_type": "stream",
     "text": [
      "Interface Status\n",
      "================================================================================\n",
      "DN                                                 Description          Speed   MTU\n",
      "--------------------------------------------------------------------------------\n",
      "topology/pod-1/node-201/sys/phys-[eth1/33]                              inherit 9150\n",
      "topology/pod-1/node-201/sys/phys-[eth1/34]                              inherit 9150\n",
      "topology/pod-1/node-201/sys/phys-[eth1/35]                              inherit 9150\n",
      "topology/pod-1/node-201/sys/phys-[eth1/36]                              inherit 9150\n",
      "topology/pod-1/node-201/sys/phys-[eth1/1]                               inherit 9150\n",
      "topology/pod-1/node-201/sys/phys-[eth1/2]                               inherit 9150\n",
      "topology/pod-1/node-201/sys/phys-[eth1/3]                               inherit 9150\n",
      "topology/pod-1/node-201/sys/phys-[eth1/4]                               inherit 9150\n",
      "topology/pod-1/node-201/sys/phys-[eth1/5]                               inherit 9150\n",
      "topology/pod-1/node-201/sys/phys-[eth1/6]                               inherit 9150\n",
      "topology/pod-1/node-201/sys/phys-[eth1/7]                               inherit 9150\n",
      "topology/pod-1/node-201/sys/phys-[eth1/8]                               inherit 9150\n",
      "topology/pod-1/node-201/sys/phys-[eth1/9]                               inherit 9150\n",
      "topology/pod-1/node-201/sys/phys-[eth1/10]                              inherit 9150\n",
      "topology/pod-1/node-201/sys/phys-[eth1/11]                              inherit 9150\n",
      "topology/pod-1/node-201/sys/phys-[eth1/12]                              inherit 9150\n",
      "topology/pod-1/node-201/sys/phys-[eth1/13]                              inherit 9150\n",
      "topology/pod-1/node-201/sys/phys-[eth1/14]                              inherit 9150\n"
     ]
    }
   ],
   "source": [
    "import json\n",
    "\n",
    "with open(\"sample-data.json\") as f:\n",
    "    data = json.load(f)\n",
    "\n",
    "print(\"Interface Status\")\n",
    "print(\"=\" * 80)\n",
    "print(f\"{'DN':<50} {'Description':<20} {'Speed':<7} {'MTU'}\")\n",
    "print(\"-\" * 80)\n",
    "\n",
    "interfaces = data[\"imdata\"]\n",
    "\n",
    "for item in interfaces:\n",
    "    attributes = item[\"l1PhysIf\"][\"attributes\"]\n",
    "    dn = attributes[\"dn\"]\n",
    "    description = attributes.get(\"descr\", \"\")\n",
    "    speed = attributes.get(\"speed\", \"inherit\")\n",
    "    mtu = attributes.get(\"mtu\", \"\")\n",
    "\n",
    "    print(f\"{dn:<50} {description:<20} {speed:<7} {mtu}\")"
   ]
  }
 ],
 "metadata": {
  "kernelspec": {
   "display_name": "Python [conda env:base] *",
   "language": "python",
   "name": "conda-base-py"
  },
  "language_info": {
   "codemirror_mode": {
    "name": "ipython",
    "version": 3
   },
   "file_extension": ".py",
   "mimetype": "text/x-python",
   "name": "python",
   "nbconvert_exporter": "python",
   "pygments_lexer": "ipython3",
   "version": "3.12.7"
  }
 },
 "nbformat": 4,
 "nbformat_minor": 5
}
