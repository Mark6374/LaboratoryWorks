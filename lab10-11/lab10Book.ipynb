{
 "cells": [
  {
   "cell_type": "code",
   "execution_count": 11,
   "id": "38d02e9d-db9b-478e-a51c-a01b8bf3cb69",
   "metadata": {},
   "outputs": [
    {
     "name": "stdout",
     "output_type": "stream",
     "text": [
      "\n",
      "Phonebook Menu:\n",
      "1. Create table\n",
      "2. Insert data from console\n",
      "3. Insert data from CSV file\n",
      "4. Update data\n",
      "5. Query data\n",
      "6. Delete data\n",
      "7. Exit\n"
     ]
    },
    {
     "name": "stdin",
     "output_type": "stream",
     "text": [
      "Enter your choice (1-7):  1\n"
     ]
    },
    {
     "name": "stdout",
     "output_type": "stream",
     "text": [
      "Table is created\n",
      "\n",
      "Phonebook Menu:\n",
      "1. Create table\n",
      "2. Insert data from console\n",
      "3. Insert data from CSV file\n",
      "4. Update data\n",
      "5. Query data\n",
      "6. Delete data\n",
      "7. Exit\n"
     ]
    },
    {
     "name": "stdin",
     "output_type": "stream",
     "text": [
      "Enter your choice (1-7):  2\n",
      "Your name:  Temirlan\n",
      "Your phone number:  87785926131\n"
     ]
    },
    {
     "name": "stdout",
     "output_type": "stream",
     "text": [
      "Data is inputted\n",
      "\n",
      "Phonebook Menu:\n",
      "1. Create table\n",
      "2. Insert data from console\n",
      "3. Insert data from CSV file\n",
      "4. Update data\n",
      "5. Query data\n",
      "6. Delete data\n",
      "7. Exit\n"
     ]
    },
    {
     "name": "stdin",
     "output_type": "stream",
     "text": [
      "Enter your choice (1-7):  4\n"
     ]
    },
    {
     "name": "stdout",
     "output_type": "stream",
     "text": [
      "1. Change name\n",
      "2. Change phone number\n"
     ]
    },
    {
     "name": "stdin",
     "output_type": "stream",
     "text": [
      "What do you want?(1/2):  2\n",
      "Enter your name:  Mark\n",
      "Enter new phone number:  87475057993\n"
     ]
    },
    {
     "name": "stdout",
     "output_type": "stream",
     "text": [
      "Data is updated\n",
      "\n",
      "Phonebook Menu:\n",
      "1. Create table\n",
      "2. Insert data from console\n",
      "3. Insert data from CSV file\n",
      "4. Update data\n",
      "5. Query data\n",
      "6. Delete data\n",
      "7. Exit\n"
     ]
    },
    {
     "name": "stdin",
     "output_type": "stream",
     "text": [
      "Enter your choice (1-7):  2\n",
      "Your name:  Ali WhatsApp\n",
      "Your phone number:  87086543612\n"
     ]
    },
    {
     "name": "stdout",
     "output_type": "stream",
     "text": [
      "Data is inputted\n",
      "\n",
      "Phonebook Menu:\n",
      "1. Create table\n",
      "2. Insert data from console\n",
      "3. Insert data from CSV file\n",
      "4. Update data\n",
      "5. Query data\n",
      "6. Delete data\n",
      "7. Exit\n"
     ]
    },
    {
     "name": "stdin",
     "output_type": "stream",
     "text": [
      "Enter your choice (1-7):  5\n"
     ]
    },
    {
     "name": "stdout",
     "output_type": "stream",
     "text": [
      "1. Search by name\n",
      "2. Search by phone number\n",
      "3. Show all records\n"
     ]
    },
    {
     "name": "stdin",
     "output_type": "stream",
     "text": [
      "What do you need?(1/2/3):  3\n"
     ]
    },
    {
     "name": "stdout",
     "output_type": "stream",
     "text": [
      "\n",
      "Search results:\n",
      "ID: 2, Name: Temirlan, Phone: 87785926131\n",
      "ID: 1, Name: Mark, Phone: 87475057993\n",
      "ID: 3, Name: Ali WhatsApp, Phone: 87086543612\n",
      "\n",
      "Phonebook Menu:\n",
      "1. Create table\n",
      "2. Insert data from console\n",
      "3. Insert data from CSV file\n",
      "4. Update data\n",
      "5. Query data\n",
      "6. Delete data\n",
      "7. Exit\n"
     ]
    },
    {
     "name": "stdin",
     "output_type": "stream",
     "text": [
      "Enter your choice (1-7):  2\n",
      "Your name:  Mama Tel2\n",
      "Your phone number:  87074642507\n"
     ]
    },
    {
     "name": "stdout",
     "output_type": "stream",
     "text": [
      "Data is inputted\n",
      "\n",
      "Phonebook Menu:\n",
      "1. Create table\n",
      "2. Insert data from console\n",
      "3. Insert data from CSV file\n",
      "4. Update data\n",
      "5. Query data\n",
      "6. Delete data\n",
      "7. Exit\n"
     ]
    },
    {
     "name": "stdin",
     "output_type": "stream",
     "text": [
      "Enter your choice (1-7):  7\n"
     ]
    },
    {
     "name": "stdout",
     "output_type": "stream",
     "text": [
      "Exiting...\n"
     ]
    }
   ],
   "source": [
    "import psycopg2\n",
    "import csv\n",
    "\n",
    "def create_table():\n",
    "    conn = psycopg2.connect(\n",
    "        dbname = 'PhoneBook',\n",
    "        user = 'postgres',\n",
    "        password = '1234',\n",
    "        host = 'localhost',\n",
    "        port = '5432'\n",
    "    )\n",
    "    cur = conn.cursor()\n",
    "    create_table_query = '''\n",
    "    CREATE TABLE IF NOT EXISTS phonebook(\n",
    "        id SERIAL PRIMARY KEY,\n",
    "        name VARCHAR(100),\n",
    "        phone VARCHAR(20)\n",
    "    );\n",
    "    '''\n",
    "\n",
    "    cur.execute(create_table_query)\n",
    "\n",
    "    conn.commit()\n",
    "    cur.close()\n",
    "    conn.close()\n",
    "\n",
    "    print('Table is created')\n",
    "\n",
    "def insert_from_console():\n",
    "    name = input(\"Your name: \")\n",
    "    phone = input(\"Your phone number: \")\n",
    "    conn = psycopg2.connect(\n",
    "        dbname = 'PhoneBook',\n",
    "        user = 'postgres',\n",
    "        password = '1234',\n",
    "        host = 'localhost',\n",
    "        port = '5432'\n",
    "    )\n",
    "    cur = conn.cursor()\n",
    "    insert_query = \"INSERT INTO phonebook (name, phone) VALUES (%s, %s)\"\n",
    "    cur.execute(insert_query, (name, phone))\n",
    "\n",
    "    conn.commit()\n",
    "    cur.close()\n",
    "    conn.close()\n",
    "    print(\"Data is inputted\")\n",
    "\n",
    "def insert_from_csv(filename):\n",
    "    try: \n",
    "        with open(filename, 'r') as file:\n",
    "            reader = csv.reader(file)\n",
    "            next(reader)\n",
    "            conn = psycopg2.connect(\n",
    "                dbname = 'PhoneBook',\n",
    "                user = 'postgres',\n",
    "                password = '1234',\n",
    "                host = 'localhost',\n",
    "                port = '5432'\n",
    "            )\n",
    "            cur = conn.cursor()\n",
    "            for row in reader:\n",
    "                if len(row) >= 2:\n",
    "                    name,phone = row[0], row[1]\n",
    "                    insert_query = \"INSERT INTO phonebook (name, phone) VALUES (%s, %s)\"\n",
    "\n",
    "                    cur.execute(insert_query, (name,phone))\n",
    "            conn.commit()\n",
    "            cur.close()\n",
    "            conn.close()\n",
    "            print(f\"Data from file {filename} is imported\")\n",
    "    except FileNotFoundError:\n",
    "        print(\"File is not found\")\n",
    "    except Exception as e:\n",
    "        print(f\"Error: {e}\")\n",
    "\n",
    "def update_data():\n",
    "    print(\"1. Change name\")\n",
    "    print(\"2. Change phone number\")\n",
    "    choice = input(\"What do you want?(1/2): \")\n",
    "\n",
    "    conn = psycopg2.connect(\n",
    "        dbname = 'PhoneBook',\n",
    "        user = 'postgres',\n",
    "        password = '1234',\n",
    "        host = 'localhost',\n",
    "        port = '5432'\n",
    "    )\n",
    "    cur = conn.cursor()\n",
    "\n",
    "    if choice == '1':\n",
    "        old_name = input(\"Enter current name: \")\n",
    "        new_name = input(\"Enter new name: \")\n",
    "        update_query = \"UPDATE phonebook SET name = %s WHERE name = %s\"\n",
    "        params = (new_name, old_name)\n",
    "    elif choice == '2':\n",
    "        name = input(\"Enter your name: \")\n",
    "        new_phone = input(\"Enter new phone number: \")\n",
    "        update_query = \"UPDATE phonebook SET phone = %s WHERE name = %s\"\n",
    "        params = (new_phone, name)\n",
    "    else:\n",
    "        print(\"Incorrect choice\")\n",
    "        return\n",
    "    try: \n",
    "        cur.execute(update_query, params)\n",
    "        conn.commit()\n",
    "\n",
    "        if cur.rowcount == 0:\n",
    "            print(\"Record is not found\")\n",
    "        else:\n",
    "            print(\"Data is updated\")\n",
    "    except Exception as e:\n",
    "        print(f\"Error: {e}\")\n",
    "    finally:\n",
    "        cur.close()\n",
    "        conn.close()\n",
    "def query_data():\n",
    "    print(\"1. Search by name\")\n",
    "    print(\"2. Search by phone number\")\n",
    "    print(\"3. Show all records\")\n",
    "    choice = input(\"What do you need?(1/2/3): \")\n",
    "\n",
    "    conn = psycopg2.connect(\n",
    "            dbname = 'PhoneBook',\n",
    "            user = 'postgres',\n",
    "            password = '1234',\n",
    "            host = 'localhost',\n",
    "            port = '5432'\n",
    "        )\n",
    "    cur = conn.cursor()\n",
    "    \n",
    "    if choice == '1':\n",
    "        name = input(\"Enter name for searching: \")\n",
    "        query = \"SELECT * FROM phonebook WHERE name LIKE %s\"\n",
    "        params = (f\"%{name}%\",)\n",
    "    elif choice == '2':\n",
    "        phone = input(\"Enter phone number for searching: \")\n",
    "        query = \"SELECT * FROM phonebook WHERE phone LIKE %s\"\n",
    "        params = (f\"%{phone}%\",)\n",
    "    elif choice == '3':\n",
    "        query = \"SELECT * FROM phonebook\"\n",
    "        params = ()\n",
    "    else:\n",
    "        print(\"Incorrect choice\")\n",
    "        return\n",
    "    try:\n",
    "        cur.execute(query, params)\n",
    "        records = cur.fetchall()\n",
    "        if not records:\n",
    "            print(\"No records found\")\n",
    "        else:\n",
    "            print(\"\\nSearch results:\")\n",
    "            for row in records:\n",
    "                print(f\"ID: {row[0]}, Name: {row[1]}, Phone: {row[2]}\")\n",
    "    except Exception as e:\n",
    "        print(f\"Error: {e}\")\n",
    "    finally:\n",
    "        cur.close()\n",
    "        conn.close()\n",
    "def delete_data():\n",
    "    print(\"1. Delete by name\")\n",
    "    print(\"2. Delete by phone number\")\n",
    "    choice = input(\"How do you want to delete? (1/2): \")\n",
    "    conn = psycopg2.connect(\n",
    "            dbname = 'PhoneBook',\n",
    "            user = 'postgres',\n",
    "            password = '1234',\n",
    "            host = 'localhost',\n",
    "            port = '5432'\n",
    "        )\n",
    "    cur = conn.cursor()\n",
    "    \n",
    "    if choice == '1':\n",
    "        name = input(\"Enter name to delete: \")\n",
    "        delete_query = \"DELETE FROM phonebook WHERE name = %s\"\n",
    "        params = (name,)\n",
    "    elif choice == '2':\n",
    "        phone = input(\"Enter phone number to delete: \")\n",
    "        delete_query = \"DELETE FROM phonebook WHERE phone = %s\"\n",
    "        params = (phone, )\n",
    "    else:\n",
    "        print(\"Incorrect choice\")\n",
    "        return\n",
    "    try:\n",
    "        cur.execute(delete_query, params)\n",
    "        conn.commit()\n",
    "        if cur.rowcount == 0:\n",
    "            print(\"Record is not found\")\n",
    "        else:\n",
    "            print(f\"Deleted {cur.rowcount} record(s)\")\n",
    "    except Exception as e:\n",
    "        print(f\"Error: {e}\")\n",
    "    finally:\n",
    "        cur.close()\n",
    "        conn.close()\n",
    "def main_menu():\n",
    "    while True:\n",
    "        print(\"\\nPhonebook Menu:\")\n",
    "        print(\"1. Create table\")\n",
    "        print(\"2. Insert data from console\")\n",
    "        print(\"3. Insert data from CSV file\")\n",
    "        print(\"4. Update data\")\n",
    "        print(\"5. Query data\")\n",
    "        print(\"6. Delete data\")\n",
    "        print(\"7. Exit\")\n",
    "        \n",
    "        choice = input(\"Enter your choice (1-7): \")\n",
    "\n",
    "        if choice == '1':\n",
    "            create_table()\n",
    "        elif choice == '2':\n",
    "            insert_from_console()\n",
    "        elif choice == '3':\n",
    "            filename = input(\"Enter CSV filename: \")\n",
    "            insert_from_csv(filename)\n",
    "        elif choice == '4':\n",
    "            update_data()\n",
    "        elif choice == '5':\n",
    "            query_data()\n",
    "        elif choice == '6':\n",
    "            delete_data()\n",
    "        elif choice == '7':\n",
    "            print(\"Exiting...\")\n",
    "            break\n",
    "        else:\n",
    "            print(\"Invalid choice. Please try again.\")\n",
    "if __name__ == '__main__':\n",
    "    main_menu()\n",
    "\n",
    "\n"
   ]
  },
  {
   "cell_type": "code",
   "execution_count": null,
   "id": "eb47b4db-97d3-4d36-83b1-83ac0f2b0e54",
   "metadata": {},
   "outputs": [],
   "source": []
  }
 ],
 "metadata": {
  "kernelspec": {
   "display_name": "Python [conda env:base] *",
   "language": "python",
   "name": "conda-base-py"
  },
  "language_info": {
   "codemirror_mode": {
    "name": "ipython",
    "version": 3
   },
   "file_extension": ".py",
   "mimetype": "text/x-python",
   "name": "python",
   "nbconvert_exporter": "python",
   "pygments_lexer": "ipython3",
   "version": "3.12.7"
  }
 },
 "nbformat": 4,
 "nbformat_minor": 5
}
