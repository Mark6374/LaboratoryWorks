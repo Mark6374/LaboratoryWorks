{
 "cells": [
  {
   "cell_type": "code",
   "execution_count": 29,
   "id": "36b1a5a4-da44-4004-b840-df4761c74ffb",
   "metadata": {},
   "outputs": [
    {
     "name": "stdout",
     "output_type": "stream",
     "text": [
      "False\n",
      "True\n"
     ]
    }
   ],
   "source": [
    "import re\n",
    "def match_ab_zero_or_more(s):\n",
    "    return bool(re.fullmatch(r'ab*', s))\n",
    "print(match_ab_zero_or_more(\"aa\"))\n",
    "print(match_ab_zero_or_more(\"ab\"))"
   ]
  },
  {
   "cell_type": "code",
   "execution_count": 19,
   "id": "3a7afbda-0364-484b-8b34-97b047f78f2f",
   "metadata": {},
   "outputs": [
    {
     "name": "stdout",
     "output_type": "stream",
     "text": [
      "True\n",
      "False\n"
     ]
    }
   ],
   "source": [
    "def match_ab_two_to_three(s):\n",
    "    return bool(re.fullmatch(r'ab{2,3}', s))\n",
    "print(match_ab_two_to_three(\"abb\"))  \n",
    "print(match_ab_two_to_three(\"ab\"))   "
   ]
  },
  {
   "cell_type": "code",
   "execution_count": 33,
   "id": "fefee5e1-113c-499a-8f0c-8c7b1e785794",
   "metadata": {},
   "outputs": [
    {
     "name": "stdout",
     "output_type": "stream",
     "text": [
      "['ghi_jkl']\n"
     ]
    }
   ],
   "source": [
    "def find_lowercase_with_underscore(s):\n",
    "    return re.findall(r'[a-z]+_[a-z]+', s)\n",
    "print(find_lowercase_with_underscore(\"abcdef ghi_jkl\"))"
   ]
  },
  {
   "cell_type": "code",
   "execution_count": 37,
   "id": "0580ff78-deb1-49cb-9809-2c3c8a594ace",
   "metadata": {},
   "outputs": [
    {
     "name": "stdout",
     "output_type": "stream",
     "text": [
      "['Hello', 'Mark']\n"
     ]
    }
   ],
   "source": [
    "def find_upper_followed_by_lower(s):\n",
    "    return re.findall(r'[A-Z][a-z]+', s)\n",
    "print(find_upper_followed_by_lower(\"Hello Mark python\"))"
   ]
  },
  {
   "cell_type": "code",
   "execution_count": 43,
   "id": "494075c7-4b74-474e-8069-47155022d59c",
   "metadata": {},
   "outputs": [
    {
     "name": "stdout",
     "output_type": "stream",
     "text": [
      "True\n",
      "False\n"
     ]
    }
   ],
   "source": [
    "def match_a_anything_b(s):\n",
    "    return bool(re.fullmatch(r'a.*b', s))\n",
    "print(match_a_anything_b(\"axb\"))\n",
    "print(match_a_anything_b(\"abbbx\")) "
   ]
  },
  {
   "cell_type": "code",
   "execution_count": 47,
   "id": "6bbf6579-1632-445b-a78d-10cce214f5dd",
   "metadata": {},
   "outputs": [
    {
     "name": "stdout",
     "output_type": "stream",
     "text": [
      "Hello::Mark::Python:is:great\n"
     ]
    }
   ],
   "source": [
    "def replace_with_colon(s):\n",
    "    return re.sub(r'[ ,.]', ':', s)\n",
    "print(replace_with_colon(\"Hello, Mark. Python is great\"))"
   ]
  },
  {
   "cell_type": "code",
   "execution_count": 49,
   "id": "9651c207-ce85-4aa1-ba19-8abe8cdb3f73",
   "metadata": {},
   "outputs": [
    {
     "name": "stdout",
     "output_type": "stream",
     "text": [
      "HelloWorldTest\n"
     ]
    }
   ],
   "source": [
    "def snake_to_camel(s):\n",
    "    return ''.join(word.capitalize() for word in s.split('_'))\n",
    "print(snake_to_camel(\"hello_world_test\"))"
   ]
  },
  {
   "cell_type": "code",
   "execution_count": 59,
   "id": "7ceae870-9c47-4585-846d-c36805acefff",
   "metadata": {},
   "outputs": [
    {
     "name": "stdout",
     "output_type": "stream",
     "text": [
      "['Hello', 'World', 'Python']\n"
     ]
    }
   ],
   "source": [
    "def split_at_uppercase(s):\n",
    "    return re.split(r'(?=[A-Z])', s)[1:]\n",
    "print(split_at_uppercase(\"HelloWorldPython\"))"
   ]
  },
  {
   "cell_type": "code",
   "execution_count": 61,
   "id": "9bc9d0a6-fbc4-47ea-9ede-3bdbfd357c56",
   "metadata": {},
   "outputs": [
    {
     "name": "stdout",
     "output_type": "stream",
     "text": [
      "Hello World Python\n"
     ]
    }
   ],
   "source": [
    "def insert_spaces_capitals(s):\n",
    "    return re.sub(r'(?<!^)(?=[A-Z])', ' ', s)\n",
    "print(insert_spaces_capitals(\"HelloWorldPython\"))"
   ]
  },
  {
   "cell_type": "code",
   "execution_count": 65,
   "id": "71b26047-67b2-475e-8738-5f39506331b1",
   "metadata": {},
   "outputs": [
    {
     "name": "stdout",
     "output_type": "stream",
     "text": [
      "hello_world_test\n"
     ]
    }
   ],
   "source": [
    "def camel_to_snake(s):\n",
    "    return re.sub(r'(?<!^)(?=[A-Z])', '_', s).lower()\n",
    "print(camel_to_snake(\"HelloWorldTest\"))"
   ]
  },
  {
   "cell_type": "code",
   "execution_count": null,
   "id": "c0bd767b-dffc-4e40-9f73-6afdf000aafc",
   "metadata": {},
   "outputs": [],
   "source": []
  }
 ],
 "metadata": {
  "kernelspec": {
   "display_name": "Python [conda env:base] *",
   "language": "python",
   "name": "conda-base-py"
  },
  "language_info": {
   "codemirror_mode": {
    "name": "ipython",
    "version": 3
   },
   "file_extension": ".py",
   "mimetype": "text/x-python",
   "name": "python",
   "nbconvert_exporter": "python",
   "pygments_lexer": "ipython3",
   "version": "3.12.7"
  }
 },
 "nbformat": 4,
 "nbformat_minor": 5
}
