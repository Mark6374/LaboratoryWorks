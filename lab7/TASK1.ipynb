{
 "cells": [
  {
   "cell_type": "code",
   "execution_count": 2,
   "id": "1f5683b5-2510-45f2-89ea-778d80348fb6",
   "metadata": {},
   "outputs": [
    {
     "name": "stdout",
     "output_type": "stream",
     "text": [
      "pygame 2.6.1 (SDL 2.28.4, Python 3.12.7)\n",
      "Hello from the pygame community. https://www.pygame.org/contribute.html\n",
      "48\n",
      "36\n"
     ]
    },
    {
     "name": "stderr",
     "output_type": "stream",
     "text": [
      "2025-03-26 10:36:48.905 python[73365:11402132] +[IMKClient subclass]: chose IMKClient_Modern\n",
      "2025-03-26 10:36:48.905 python[73365:11402132] +[IMKInputSession subclass]: chose IMKInputSession_Modern\n"
     ]
    }
   ],
   "source": [
    "import pygame\n",
    "import datetime \n",
    "pygame.init()\n",
    "screen=pygame.display.set_mode((800, 600))\n",
    "run=True\n",
    "clock=pygame.time.Clock()\n",
    "back=pygame.image.load('/Users/Mark/Desktop/PP2/lab7/mickeyclock.png')\n",
    "r_hand=pygame.image.load('/Users/Mark/Desktop/PP2/lab7/right_hand.png')\n",
    "l_hand=pygame.image.load('/Users/Mark/Desktop/PP2/lab7/left_hand.png')\n",
    "now=datetime.datetime.now()\n",
    "sec=now.second; seconds= -sec*6\n",
    "minn = now.minute;minutes = -minn * 6\n",
    "print(sec)\n",
    "print(minn)\n",
    "image_center = (400,300)\n",
    "\n",
    "\n",
    "\n",
    "\n",
    "while run:\n",
    "    for i in pygame.event.get():\n",
    "        if i.type==pygame.QUIT:\n",
    "            run=False\n",
    "\n",
    "    right_hand = pygame.transform.rotate(r_hand,minutes)\n",
    "    minutes -= 1/600\n",
    "    right = right_hand.get_rect(center = image_center)\n",
    "\n",
    "    left_hand = pygame.transform.rotate(l_hand,seconds)\n",
    "    seconds -= 1/10\n",
    "    left = left_hand.get_rect(center = image_center)\n",
    "\n",
    "    screen.blit(back, (0,0))\n",
    "    screen.blit(right_hand, right)\n",
    "    screen.blit(left_hand, left)\n",
    "\n",
    "    pygame.display.flip()   \n",
    "    clock.tick(60) "
   ]
  },
  {
   "cell_type": "code",
   "execution_count": null,
   "id": "0868a6a0-17e4-4d47-a07f-156263669ecb",
   "metadata": {},
   "outputs": [],
   "source": []
  },
  {
   "cell_type": "code",
   "execution_count": null,
   "id": "76b2f99e-9fa8-4255-b57e-3cd1eb21fa8e",
   "metadata": {},
   "outputs": [],
   "source": []
  }
 ],
 "metadata": {
  "kernelspec": {
   "display_name": "Python [conda env:base] *",
   "language": "python",
   "name": "conda-base-py"
  },
  "language_info": {
   "codemirror_mode": {
    "name": "ipython",
    "version": 3
   },
   "file_extension": ".py",
   "mimetype": "text/x-python",
   "name": "python",
   "nbconvert_exporter": "python",
   "pygments_lexer": "ipython3",
   "version": "3.12.7"
  }
 },
 "nbformat": 4,
 "nbformat_minor": 5
}
