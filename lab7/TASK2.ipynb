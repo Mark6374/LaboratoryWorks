{
 "cells": [
  {
   "cell_type": "code",
   "execution_count": 1,
   "id": "5c713eae-096a-454f-b1a4-f527e9a2acca",
   "metadata": {},
   "outputs": [
    {
     "name": "stdout",
     "output_type": "stream",
     "text": [
      "pygame 2.6.1 (SDL 2.28.4, Python 3.12.7)\n",
      "Hello from the pygame community. https://www.pygame.org/contribute.html\n"
     ]
    },
    {
     "name": "stderr",
     "output_type": "stream",
     "text": [
      "2025-03-26 11:08:03.259 python[74752:11444829] +[IMKClient subclass]: chose IMKClient_Modern\n",
      "2025-03-26 11:08:03.259 python[74752:11444829] +[IMKInputSession subclass]: chose IMKInputSession_Modern\n"
     ]
    }
   ],
   "source": [
    "import pygame\n",
    "import os\n",
    "from PIL import Image, ImageSequence\n",
    "\n",
    "pygame.init()\n",
    "pygame.mixer.init()\n",
    "\n",
    "\n",
    "MUSIC_FOLDER = \"/Users/Mark/Desktop/PP2/lab7/task2/music\"\n",
    "tracks = [f for f in os.listdir(MUSIC_FOLDER) if f.endswith(\".mp3\")]\n",
    "current_track = 0\n",
    "\n",
    "\n",
    "def play_music(index):\n",
    "    pygame.mixer.music.load(os.path.join(MUSIC_FOLDER, tracks[index]))\n",
    "    pygame.mixer.music.play()\n",
    "\n",
    "if tracks:\n",
    "    play_music(current_track)\n",
    "\n",
    "\n",
    "gif_path = \"music.gif\"\n",
    "pil_image = Image.open(gif_path)\n",
    "gif_frames = [pygame.image.fromstring(frame.convert(\"RGB\").tobytes(), frame.size, \"RGB\") \n",
    "              for frame in ImageSequence.Iterator(pil_image)]\n",
    "frame_index = 0\n",
    "frame_delay = pil_image.info.get(\"duration\", 100) // 10\n",
    "\n",
    "\n",
    "WIDTH, HEIGHT = gif_frames[0].get_size()\n",
    "screen = pygame.display.set_mode((WIDTH, HEIGHT))\n",
    "pygame.display.set_caption(\"Music Player\")\n",
    "clock = pygame.time.Clock()\n",
    "\n",
    "running = True\n",
    "while running:\n",
    "    screen.blit(gif_frames[frame_index], (0, 0))\n",
    "    pygame.display.flip()\n",
    "    frame_index = (frame_index + 1) % len(gif_frames)\n",
    "    \n",
    "    for event in pygame.event.get():\n",
    "        if event.type == pygame.QUIT:\n",
    "            running = False\n",
    "        elif event.type == pygame.KEYDOWN:\n",
    "            if event.key == pygame.K_SPACE:  \n",
    "                if pygame.mixer.music.get_busy():\n",
    "                    pygame.mixer.music.pause()\n",
    "                else:\n",
    "                    pygame.mixer.music.unpause()\n",
    "            elif event.key == pygame.K_RIGHT:  \n",
    "                current_track = (current_track + 1) % len(tracks)\n",
    "                play_music(current_track)\n",
    "            elif event.key == pygame.K_LEFT:  \n",
    "                current_track = (current_track - 1) % len(tracks)\n",
    "                play_music(current_track)\n",
    "    \n",
    "    clock.tick(frame_delay)\n",
    "\n",
    "pygame.quit()\n",
    "\n"
   ]
  },
  {
   "cell_type": "code",
   "execution_count": null,
   "id": "b3f3646c-2795-47fd-9b05-235cf796d595",
   "metadata": {},
   "outputs": [],
   "source": []
  }
 ],
 "metadata": {
  "kernelspec": {
   "display_name": "Python [conda env:base] *",
   "language": "python",
   "name": "conda-base-py"
  },
  "language_info": {
   "codemirror_mode": {
    "name": "ipython",
    "version": 3
   },
   "file_extension": ".py",
   "mimetype": "text/x-python",
   "name": "python",
   "nbconvert_exporter": "python",
   "pygments_lexer": "ipython3",
   "version": "3.12.7"
  }
 },
 "nbformat": 4,
 "nbformat_minor": 5
}
