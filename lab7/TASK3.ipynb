{
 "cells": [
  {
   "cell_type": "code",
   "execution_count": 1,
   "id": "1feb64c4-6eb3-482f-a216-fd3d41fa1f33",
   "metadata": {},
   "outputs": [
    {
     "name": "stdout",
     "output_type": "stream",
     "text": [
      "pygame 2.6.1 (SDL 2.28.4, Python 3.12.7)\n",
      "Hello from the pygame community. https://www.pygame.org/contribute.html\n"
     ]
    },
    {
     "name": "stderr",
     "output_type": "stream",
     "text": [
      "2025-03-26 11:15:16.347 python[75032:11452995] +[IMKClient subclass]: chose IMKClient_Modern\n",
      "2025-03-26 11:15:16.347 python[75032:11452995] +[IMKInputSession subclass]: chose IMKInputSession_Modern\n"
     ]
    },
    {
     "ename": "SystemExit",
     "evalue": "",
     "output_type": "error",
     "traceback": [
      "An exception has occurred, use %tb to see the full traceback.\n",
      "\u001b[0;31mSystemExit\u001b[0m\n"
     ]
    },
    {
     "name": "stderr",
     "output_type": "stream",
     "text": [
      "/opt/anaconda3/lib/python3.12/site-packages/IPython/core/interactiveshell.py:3585: UserWarning: To exit: use 'exit', 'quit', or Ctrl-D.\n",
      "  warn(\"To exit: use 'exit', 'quit', or Ctrl-D.\", stacklevel=1)\n"
     ]
    }
   ],
   "source": [
    "import pygame\n",
    "import sys\n",
    "\n",
    "pygame.init()\n",
    "\n",
    "SCREEN_WIDTH = 800\n",
    "SCREEN_HEIGHT = 600\n",
    "\n",
    "WHITE = (255, 255, 255)\n",
    "RED = (255, 0, 0)\n",
    "\n",
    "BALL_SIZE = 50\n",
    "BALL_RADIUS = BALL_SIZE // 2\n",
    "ball_x = (SCREEN_WIDTH - BALL_SIZE) // 2\n",
    "ball_y = (SCREEN_HEIGHT - BALL_SIZE) // 2\n",
    "\n",
    "BALL_SPEED = 20\n",
    "\n",
    "screen = pygame.display.set_mode((SCREEN_WIDTH, SCREEN_HEIGHT))\n",
    "pygame.display.set_caption(\"BallGame\")\n",
    "\n",
    "clock = pygame.time.Clock()\n",
    "\n",
    "running = True\n",
    "while running:\n",
    "    for event in pygame.event.get():\n",
    "        if event.type == pygame.QUIT:\n",
    "            running = False\n",
    "\n",
    "    keys = pygame.key.get_pressed()\n",
    "    if keys[pygame.K_UP]:\n",
    "        ball_y -= BALL_SPEED\n",
    "    elif keys[pygame.K_DOWN]:\n",
    "        ball_y += BALL_SPEED\n",
    "    elif keys[pygame.K_LEFT]:\n",
    "        ball_x -= BALL_SPEED\n",
    "    elif keys[pygame.K_RIGHT]:\n",
    "        ball_x += BALL_SPEED\n",
    "\n",
    "    ball_x = max(0, min(SCREEN_WIDTH - BALL_SIZE, ball_x))\n",
    "    ball_y = max(0, min(SCREEN_HEIGHT - BALL_SIZE, ball_y))\n",
    "\n",
    "    screen.fill(WHITE)\n",
    "\n",
    "    pygame.draw.circle(screen, RED, (ball_x + BALL_RADIUS, ball_y + BALL_RADIUS), BALL_RADIUS)\n",
    "\n",
    "    pygame.display.flip()\n",
    "\n",
    "    clock.tick(60)\n",
    "\n",
    "\n",
    "pygame.quit()\n",
    "sys.exit()"
   ]
  },
  {
   "cell_type": "code",
   "execution_count": null,
   "id": "5075461d-58d7-42e3-b37e-db54fe18161a",
   "metadata": {},
   "outputs": [],
   "source": []
  }
 ],
 "metadata": {
  "kernelspec": {
   "display_name": "Python [conda env:base] *",
   "language": "python",
   "name": "conda-base-py"
  },
  "language_info": {
   "codemirror_mode": {
    "name": "ipython",
    "version": 3
   },
   "file_extension": ".py",
   "mimetype": "text/x-python",
   "name": "python",
   "nbconvert_exporter": "python",
   "pygments_lexer": "ipython3",
   "version": "3.12.7"
  }
 },
 "nbformat": 4,
 "nbformat_minor": 5
}
