{
 "cells": [
  {
   "cell_type": "markdown",
   "id": "19b45cb0-9277-4a25-b9e9-4779a6a09f50",
   "metadata": {},
   "source": [
    "Python builtin functions exercises"
   ]
  },
  {
   "cell_type": "code",
   "execution_count": 1,
   "id": "ac413647-ac99-4f37-9ce7-8c3ef64069fc",
   "metadata": {},
   "outputs": [],
   "source": [
    "import math\n",
    "import time\n",
    "import functools"
   ]
  },
  {
   "cell_type": "code",
   "execution_count": 11,
   "id": "54fd0d5b-032e-4f10-a631-2df7f2b1ca82",
   "metadata": {},
   "outputs": [
    {
     "name": "stdout",
     "output_type": "stream",
     "text": [
      "120\n"
     ]
    }
   ],
   "source": [
    "def multiply(lst):\n",
    "    return functools.reduce(lambda x, y: x * y, lst)\n",
    "print(multiply([1, 2, 3, 4, 5]))"
   ]
  },
  {
   "cell_type": "code",
   "execution_count": 13,
   "id": "39da3e80-6c78-43b9-b543-de3b8d06ed6a",
   "metadata": {},
   "outputs": [
    {
     "name": "stdout",
     "output_type": "stream",
     "text": [
      "{'Upper': 2, 'Lower': 8}\n"
     ]
    }
   ],
   "source": [
    "def count_case(s):\n",
    "    upper = sum(1 for c in s if c.isupper())\n",
    "    lower = sum(1 for c in s if c.islower())\n",
    "    return {\"Upper\": upper, \"Lower\": lower}\n",
    "print(count_case(\"Hello World!\"))"
   ]
  },
  {
   "cell_type": "code",
   "execution_count": 33,
   "id": "fbf4a18d-8156-4888-899b-3e45cccac316",
   "metadata": {},
   "outputs": [
    {
     "name": "stdout",
     "output_type": "stream",
     "text": [
      "True\n",
      "False\n"
     ]
    }
   ],
   "source": [
    "def palindrome(s):\n",
    "    return s == s[::-1]\n",
    "print(palindrome(\"madam\")) \n",
    "print(palindrome(\"hello\")) "
   ]
  },
  {
   "cell_type": "code",
   "execution_count": 21,
   "id": "4e5b6157-9412-43e6-bca5-bff382222267",
   "metadata": {},
   "outputs": [
    {
     "name": "stdout",
     "output_type": "stream",
     "text": [
      "Square root of 25100 after 2123 milliseconds is 158.42979517754858\n"
     ]
    }
   ],
   "source": [
    "def sqrt(number, delay):\n",
    "    time.sleep(delay / 1000)\n",
    "    return f\"Square root of {number} after {delay} milliseconds is {math.sqrt(number)}\"\n",
    "print(sqrt(25100, 2123))"
   ]
  },
  {
   "cell_type": "code",
   "execution_count": 29,
   "id": "3fd4449d-464a-4fa7-9f19-cce6ad377696",
   "metadata": {},
   "outputs": [
    {
     "name": "stdout",
     "output_type": "stream",
     "text": [
      "True\n",
      "False\n"
     ]
    }
   ],
   "source": [
    "def true(tpl):\n",
    "    return all(tpl)\n",
    "print(true((True, 1, \"Non empty\")))\n",
    "print(true((True, 0, \"Non empty\")))"
   ]
  },
  {
   "cell_type": "markdown",
   "id": "8da13f2f-77f0-4270-a121-6dce8ef57681",
   "metadata": {},
   "source": [
    "Python Directories and Files exercises\n"
   ]
  },
  {
   "cell_type": "code",
   "execution_count": 48,
   "id": "94bd3d92-5f8d-44da-9d1c-f32f868b47ef",
   "metadata": {},
   "outputs": [
    {
     "name": "stdout",
     "output_type": "stream",
     "text": [
      "Directories: []\n",
      "Files: ['.DS_Store', 'Test.rtf']\n",
      "All: ['.DS_Store', 'Test.rtf']\n"
     ]
    }
   ],
   "source": [
    "import os\n",
    "\n",
    "path = \"/Users/Mark/Documents/PPtest\"\n",
    "\n",
    "print(\"Directories:\", [d for d in os.listdir(path) if os.path.isdir(os.path.join(path, d))])\n",
    "print(\"Files:\", [f for f in os.listdir(path) if os.path.isfile(os.path.join(path, f))])\n",
    "print(\"All:\", os.listdir(path))"
   ]
  },
  {
   "cell_type": "code",
   "execution_count": 50,
   "id": "f18e6f5c-262d-4099-9dba-aa3c4f10acf3",
   "metadata": {},
   "outputs": [
    {
     "name": "stdout",
     "output_type": "stream",
     "text": [
      "Exists: True\n",
      "Readable: True\n",
      "Writable: True\n",
      "Executable: True\n"
     ]
    }
   ],
   "source": [
    "path = \"/Users/Mark/Documents/PPtest\"\n",
    "\n",
    "print(\"Exists:\", os.path.exists(path))\n",
    "print(\"Readable:\", os.access(path, os.R_OK))\n",
    "print(\"Writable:\", os.access(path, os.W_OK))\n",
    "print(\"Executable:\", os.access(path, os.X_OK))"
   ]
  },
  {
   "cell_type": "code",
   "execution_count": 52,
   "id": "28f82bf7-57ae-436c-bd9f-60742f8f1208",
   "metadata": {},
   "outputs": [
    {
     "name": "stdout",
     "output_type": "stream",
     "text": [
      "Directory: /Users/Mark/Documents\n",
      "Filename: PPtest\n"
     ]
    }
   ],
   "source": [
    "path = \"/Users/Mark/Documents/PPtest\"\n",
    "\n",
    "if os.path.exists(path):\n",
    "    print(\"Directory:\", os.path.dirname(path))\n",
    "    print(\"Filename:\", os.path.basename(path))\n",
    "else:\n",
    "    print(\"not exist\")"
   ]
  },
  {
   "cell_type": "code",
   "execution_count": 68,
   "id": "d7e309dd-4cf8-4458-8c89-935d6f4fa17a",
   "metadata": {},
   "outputs": [
    {
     "name": "stdout",
     "output_type": "stream",
     "text": [
      "Number: 3\n"
     ]
    }
   ],
   "source": [
    "file_path = \"Test2.txt\"\n",
    "\n",
    "with open(file_path, 'r') as file:\n",
    "    print(\"Number:\", sum(1 for _ in file))"
   ]
  },
  {
   "cell_type": "code",
   "execution_count": 76,
   "id": "fcd6fc70-3af4-403c-ac39-efef145740d2",
   "metadata": {},
   "outputs": [],
   "source": [
    "data = [\"Hello\", \"World\", \"!!\"]\n",
    "file_path = \"Test5.txt\"\n",
    "\n",
    "with open(file_path, 'w') as file:\n",
    "    file.writelines(f\"{line}\\t\" for line in data)"
   ]
  },
  {
   "cell_type": "code",
   "execution_count": 84,
   "id": "67ea4ab5-6923-4dde-8b82-9a267b770c09",
   "metadata": {},
   "outputs": [],
   "source": [
    "import string\n",
    "\n",
    "for letter in string.ascii_uppercase:\n",
    "    with open(f\"{letter}.txt\", 'w') as file:\n",
    "        file.write(f\"{letter}\")"
   ]
  },
  {
   "cell_type": "code",
   "execution_count": 86,
   "id": "77718f3f-fd53-4d78-b202-571a9a58eca4",
   "metadata": {},
   "outputs": [],
   "source": [
    "source = \"TestSource.txt\"\n",
    "destination = \"TestDestination.txt\"\n",
    "\n",
    "with open(source, 'r') as src, open(destination, 'w') as dest:\n",
    "    dest.write(src.read())"
   ]
  },
  {
   "cell_type": "code",
   "execution_count": 88,
   "id": "2618bdf7-742e-4629-80ae-e868babbfd1b",
   "metadata": {},
   "outputs": [
    {
     "name": "stdout",
     "output_type": "stream",
     "text": [
      "File deleted\n"
     ]
    }
   ],
   "source": [
    "file_path = \"TestDelete.txt\"\n",
    "\n",
    "if os.path.exists(file_path):\n",
    "    if os.access(file_path, os.W_OK):\n",
    "        os.remove(file_path)\n",
    "        print(\"File deleted\")\n",
    "    else:\n",
    "        print(\"File does not exist\")"
   ]
  },
  {
   "cell_type": "code",
   "execution_count": null,
   "id": "503f0cf0-7e3c-47df-98e4-651b72bc110e",
   "metadata": {},
   "outputs": [],
   "source": []
  }
 ],
 "metadata": {
  "kernelspec": {
   "display_name": "Python [conda env:base] *",
   "language": "python",
   "name": "conda-base-py"
  },
  "language_info": {
   "codemirror_mode": {
    "name": "ipython",
    "version": 3
   },
   "file_extension": ".py",
   "mimetype": "text/x-python",
   "name": "python",
   "nbconvert_exporter": "python",
   "pygments_lexer": "ipython3",
   "version": "3.12.7"
  }
 },
 "nbformat": 4,
 "nbformat_minor": 5
}
