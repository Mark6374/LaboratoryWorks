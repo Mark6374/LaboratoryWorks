{
 "cells": [
  {
   "cell_type": "markdown",
   "id": "4078ba29-4bf3-472c-b93b-b0ae0d9920b5",
   "metadata": {},
   "source": [
    "FUNCTION1"
   ]
  },
  {
   "cell_type": "code",
   "execution_count": 8,
   "id": "9acc19da-6a21-4dff-9d8d-f941feaa80fa",
   "metadata": {},
   "outputs": [
    {
     "name": "stdin",
     "output_type": "stream",
     "text": [
      " 100\n"
     ]
    },
    {
     "name": "stdout",
     "output_type": "stream",
     "text": [
      "2834.9523099999997\n"
     ]
    }
   ],
   "source": [
    "def ounces(grams: float):\n",
    "    return grams * 28.3495231\n",
    "\n",
    "grams = float(input())\n",
    "print(ounces(grams))"
   ]
  },
  {
   "cell_type": "code",
   "execution_count": 63,
   "id": "f5ce6f5a-40a5-496b-8b57-7d33558d6869",
   "metadata": {},
   "outputs": [
    {
     "name": "stdin",
     "output_type": "stream",
     "text": [
      " 100\n"
     ]
    },
    {
     "name": "stdout",
     "output_type": "stream",
     "text": [
      "37.77777777777778\n"
     ]
    }
   ],
   "source": [
    "def C(F: float):\n",
    "    return (5 / 9) * (F-32)\n",
    "\n",
    "F = float(input())\n",
    "print(C(F))"
   ]
  },
  {
   "cell_type": "code",
   "execution_count": 65,
   "id": "b4f54454-6de5-4947-875a-c5c295860fb7",
   "metadata": {},
   "outputs": [
    {
     "name": "stdout",
     "output_type": "stream",
     "text": [
      "(23, 12)\n"
     ]
    }
   ],
   "source": [
    "def solve(numheads: int, numlegs: int):\n",
    "    for chickens in range(numheads + 1):\n",
    "        rabbits = numheads - chickens\n",
    "        if (chickens * 2 + rabbits * 4) == numlegs:\n",
    "            return chickens, rabbits\n",
    "    return \"No solution\"\n",
    "\n",
    "\n",
    "print(solve(35, 94))"
   ]
  },
  {
   "cell_type": "code",
   "execution_count": 1,
   "id": "42e63ba4-a7a1-4601-a18b-fd691d3e6a88",
   "metadata": {},
   "outputs": [
    {
     "name": "stdin",
     "output_type": "stream",
     "text": [
      " 1 2 3 4 5 5 6 7 8 9 10 12 13\n"
     ]
    },
    {
     "name": "stdout",
     "output_type": "stream",
     "text": [
      "[2, 3, 5, 5, 7, 13]\n"
     ]
    }
   ],
   "source": [
    "def is_prime(n: int):\n",
    "    if n < 2:\n",
    "        return False\n",
    "    for i in range(2, int(n ** 0.5) + 1):\n",
    "        if n % i == 0:\n",
    "            return False\n",
    "    return True\n",
    "\n",
    "def filter_prime(numbers: list) -> list:\n",
    "    return [n for n in numbers if is_prime(n)]\n",
    "\n",
    "numbers = list(map(int, input().split()))\n",
    "print(filter_prime(numbers))\n"
   ]
  },
  {
   "cell_type": "code",
   "execution_count": 73,
   "id": "a5a56e82-0248-47df-855e-7f4cdcd05232",
   "metadata": {},
   "outputs": [
    {
     "name": "stdin",
     "output_type": "stream",
     "text": [
      " 123\n"
     ]
    },
    {
     "name": "stdout",
     "output_type": "stream",
     "text": [
      "123\n",
      "132\n",
      "213\n",
      "231\n",
      "321\n",
      "312\n"
     ]
    }
   ],
   "source": [
    "def permute(s: str, l: int, r: int):\n",
    "    if l == r:\n",
    "        print(\"\".join(s))\n",
    "    else:\n",
    "        s = list(s)\n",
    "        for i in range(l, r + 1):\n",
    "            s[l], s[i] = s[i], s[l]\n",
    "            permute(\"\".join(s), l + 1, r)\n",
    "            s[l], s[i] = s[i], s[l]\n",
    "\n",
    "\n",
    "s = input()\n",
    "permute(s, 0, len(s) - 1)\n"
   ]
  },
  {
   "cell_type": "code",
   "execution_count": 3,
   "id": "0d8371e1-08a8-4f56-aa00-46618ce78d3e",
   "metadata": {},
   "outputs": [
    {
     "name": "stdin",
     "output_type": "stream",
     "text": [
      " Hello world and kbtu\n"
     ]
    },
    {
     "name": "stdout",
     "output_type": "stream",
     "text": [
      "kbtu and world Hello\n"
     ]
    }
   ],
   "source": [
    "def reverse_words(sentence: str):\n",
    "    return \" \".join(sentence.split()[::-1])\n",
    "\n",
    "s = input()\n",
    "print(reverse_words(s))\n"
   ]
  },
  {
   "cell_type": "code",
   "execution_count": 77,
   "id": "a2870927-e156-4641-93f1-4724252501fc",
   "metadata": {},
   "outputs": [
    {
     "name": "stdout",
     "output_type": "stream",
     "text": [
      "True\n",
      "False\n",
      "False\n"
     ]
    }
   ],
   "source": [
    "def has_33(nums):\n",
    "    for i in range(len(nums) - 1):\n",
    "        if nums[i] == 3 and nums[i + 1] == 3:\n",
    "            return True\n",
    "    return False\n",
    "\n",
    "\n",
    "print(has_33([1, 3, 3])) \n",
    "print(has_33([1, 3, 1, 3]))  \n",
    "print(has_33([3, 1, 3]))  \n"
   ]
  },
  {
   "cell_type": "code",
   "execution_count": 79,
   "id": "5d0aac28-bf50-462f-964a-d6123febc466",
   "metadata": {},
   "outputs": [
    {
     "name": "stdout",
     "output_type": "stream",
     "text": [
      "True\n",
      "True\n",
      "False\n"
     ]
    }
   ],
   "source": [
    "def spy_game(nums):\n",
    "    code = [0, 0, 7]\n",
    "    for num in nums:\n",
    "        if code and num == code[0]:\n",
    "            code.pop(0)\n",
    "        if not code:\n",
    "            return True\n",
    "    return False\n",
    "\n",
    "print(spy_game([1,2,4,0,0,7,5]))  \n",
    "print(spy_game([1,0,2,4,0,5,7]))  \n",
    "print(spy_game([1,7,2,0,4,5,0])) "
   ]
  },
  {
   "cell_type": "code",
   "execution_count": 89,
   "id": "5de85b5c-a22c-4a7a-bf4a-e3adf0b3ee1b",
   "metadata": {},
   "outputs": [
    {
     "name": "stdin",
     "output_type": "stream",
     "text": [
      " 3\n"
     ]
    },
    {
     "name": "stdout",
     "output_type": "stream",
     "text": [
      "113.03999999999999\n"
     ]
    }
   ],
   "source": [
    "def volume(radius: float):\n",
    "    return 4/3*3.14*radius**3\n",
    "\n",
    "radius = float(input())\n",
    "print(volume(radius))"
   ]
  },
  {
   "cell_type": "code",
   "execution_count": 99,
   "id": "2092abc4-d698-41ca-bb1a-72ca2f20f2e1",
   "metadata": {},
   "outputs": [
    {
     "name": "stdout",
     "output_type": "stream",
     "text": [
      "[1, 2, 3, 4, 5]\n"
     ]
    }
   ],
   "source": [
    "def unique_elements(lst):\n",
    "    unique_lst = []\n",
    "    for item in lst:\n",
    "        if item not in unique_lst:\n",
    "            unique_lst.append(item)\n",
    "    return unique_lst\n",
    "input_list = [1, 2, 2, 3, 4, 4, 5]\n",
    "result = unique_elements(input_list)\n",
    "print(result)\n",
    "    "
   ]
  },
  {
   "cell_type": "code",
   "execution_count": null,
   "id": "fc3d7bdf-d8c3-434f-b3c1-37bbe6b2ee8c",
   "metadata": {},
   "outputs": [],
   "source": [
    "FUNCTION1"
   ]
  },
  {
   "cell_type": "code",
   "execution_count": 101,
   "id": "0fc7bc25-9438-4cd5-b946-129cf9ea96ef",
   "metadata": {},
   "outputs": [
    {
     "name": "stdout",
     "output_type": "stream",
     "text": [
      "True\n"
     ]
    }
   ],
   "source": [
    "def is_palindrome(s):\n",
    "    s = s.replace(\" \", \"\").lower()\n",
    "    return s == s[::-1]\n",
    "print(is_palindrome(\"madam\"))"
   ]
  },
  {
   "cell_type": "code",
   "execution_count": 6,
   "id": "1bc121c6-1079-44e7-aecf-29274b44b759",
   "metadata": {},
   "outputs": [
    {
     "name": "stdout",
     "output_type": "stream",
     "text": [
      "****\n",
      "*********\n",
      "*******\n"
     ]
    }
   ],
   "source": [
    "def histogram(lst):\n",
    "    for num in lst:\n",
    "        print('*' * num)\n",
    "histogram([4, 9, 7])"
   ]
  },
  {
   "cell_type": "code",
   "execution_count": 4,
   "id": "c95d2f4f-6f27-481b-b6e9-15ad9c601ada",
   "metadata": {},
   "outputs": [
    {
     "name": "stdout",
     "output_type": "stream",
     "text": [
      "Hello! What is your name?\n"
     ]
    },
    {
     "name": "stdin",
     "output_type": "stream",
     "text": [
      " Mark\n"
     ]
    },
    {
     "name": "stdout",
     "output_type": "stream",
     "text": [
      "Well, Mark, I am thinking of a number between 1 and 20.\n",
      "Take a guess.\n"
     ]
    },
    {
     "name": "stdin",
     "output_type": "stream",
     "text": [
      " 14\n"
     ]
    },
    {
     "name": "stdout",
     "output_type": "stream",
     "text": [
      "Your guess is too low.\n",
      "Take a guess.\n"
     ]
    },
    {
     "name": "stdin",
     "output_type": "stream",
     "text": [
      " 18\n"
     ]
    },
    {
     "name": "stdout",
     "output_type": "stream",
     "text": [
      "Your guess is too high.\n",
      "Take a guess.\n"
     ]
    },
    {
     "name": "stdin",
     "output_type": "stream",
     "text": [
      " 15\n"
     ]
    },
    {
     "name": "stdout",
     "output_type": "stream",
     "text": [
      "Your guess is too low.\n",
      "Take a guess.\n"
     ]
    },
    {
     "name": "stdin",
     "output_type": "stream",
     "text": [
      " 17\n"
     ]
    },
    {
     "name": "stdout",
     "output_type": "stream",
     "text": [
      "Your guess is too high.\n",
      "Take a guess.\n"
     ]
    },
    {
     "name": "stdin",
     "output_type": "stream",
     "text": [
      " 16\n"
     ]
    },
    {
     "name": "stdout",
     "output_type": "stream",
     "text": [
      "Good job, Mark! You guessed my number in 5 guesses!\n"
     ]
    }
   ],
   "source": [
    "import random\n",
    "\n",
    "def guess_the_number():\n",
    "    print(\"Hello! What is your name?\")\n",
    "    name = input()\n",
    "\n",
    "    print(f\"Well, {name}, I am thinking of a number between 1 and 20.\")\n",
    "    number_to_guess = random.randint(1, 20)\n",
    "    guesses_taken = 0\n",
    "\n",
    "    while True:\n",
    "        print(\"Take a guess.\")\n",
    "        guess = int(input())\n",
    "        guesses_taken += 1\n",
    "\n",
    "        if guess < number_to_guess:\n",
    "            print(\"Your guess is too low.\")\n",
    "        elif guess > number_to_guess:\n",
    "            print(\"Your guess is too high.\")\n",
    "        else:\n",
    "            print(f\"Good job, {name}! You guessed my number in {guesses_taken} guesses!\")\n",
    "            break\n",
    "\n",
    "\n",
    "guess_the_number()"
   ]
  },
  {
   "cell_type": "markdown",
   "id": "626b9f73-0adf-4b3b-8c8e-9880c5041cea",
   "metadata": {},
   "source": [
    "FUNCTION 2\n"
   ]
  },
  {
   "cell_type": "code",
   "execution_count": 11,
   "id": "5007f0bf-ffed-4523-814d-188c4cc34606",
   "metadata": {},
   "outputs": [],
   "source": [
    "# Dictionary of movies\n",
    "\n",
    "movies = [\n",
    "{\n",
    "\"name\": \"Usual Suspects\", \n",
    "\"imdb\": 7.0,\n",
    "\"category\": \"Thriller\"\n",
    "},\n",
    "{\n",
    "\"name\": \"Hitman\",\n",
    "\"imdb\": 6.3,\n",
    "\"category\": \"Action\"\n",
    "},\n",
    "{\n",
    "\"name\": \"Dark Knight\",\n",
    "\"imdb\": 9.0,\n",
    "\"category\": \"Adventure\"\n",
    "},\n",
    "{\n",
    "\"name\": \"The Help\",\n",
    "\"imdb\": 8.0,\n",
    "\"category\": \"Drama\"\n",
    "},\n",
    "{\n",
    "\"name\": \"The Choice\",\n",
    "\"imdb\": 6.2,\n",
    "\"category\": \"Romance\"\n",
    "},\n",
    "{\n",
    "\"name\": \"Colonia\",\n",
    "\"imdb\": 7.4,\n",
    "\"category\": \"Romance\"\n",
    "},\n",
    "{\n",
    "\"name\": \"Love\",\n",
    "\"imdb\": 6.0,\n",
    "\"category\": \"Romance\"\n",
    "},\n",
    "{\n",
    "\"name\": \"Bride Wars\",\n",
    "\"imdb\": 5.4,\n",
    "\"category\": \"Romance\"\n",
    "},\n",
    "{\n",
    "\"name\": \"AlphaJet\",\n",
    "\"imdb\": 3.2,\n",
    "\"category\": \"War\"\n",
    "},\n",
    "{\n",
    "\"name\": \"Ringing Crime\",\n",
    "\"imdb\": 4.0,\n",
    "\"category\": \"Crime\"\n",
    "},\n",
    "{\n",
    "\"name\": \"Joking muck\",\n",
    "\"imdb\": 7.2,\n",
    "\"category\": \"Comedy\"\n",
    "},\n",
    "{\n",
    "\"name\": \"What is the name\",\n",
    "\"imdb\": 9.2,\n",
    "\"category\": \"Suspense\"\n",
    "},\n",
    "{\n",
    "\"name\": \"Detective\",\n",
    "\"imdb\": 7.0,\n",
    "\"category\": \"Suspense\"\n",
    "},\n",
    "{\n",
    "\"name\": \"Exam\",\n",
    "\"imdb\": 4.2,\n",
    "\"category\": \"Thriller\"\n",
    "},\n",
    "{\n",
    "\"name\": \"We Two\",\n",
    "\"imdb\": 7.2,\n",
    "\"category\": \"Romance\"\n",
    "}\n",
    "]"
   ]
  },
  {
   "cell_type": "code",
   "execution_count": 17,
   "id": "c680e3e3-0a5d-4a0e-bd43-9e1e95c6b20f",
   "metadata": {},
   "outputs": [
    {
     "name": "stdout",
     "output_type": "stream",
     "text": [
      "Usual Suspects\n",
      "Hitman\n",
      "Dark Knight\n",
      "The Help\n",
      "The Choice\n",
      "Colonia\n",
      "Love\n",
      "Joking muck\n",
      "What is the name\n",
      "Detective\n",
      "We Two\n"
     ]
    }
   ],
   "source": [
    "def good(movie):\n",
    "    return movie[\"imdb\"] > 5.5\n",
    "\n",
    "good_movies = [movie[\"name\"] for movie in movies if good(movie)]\n",
    "\n",
    "for movie in good_movies:\n",
    "    print(movie)"
   ]
  },
  {
   "cell_type": "code",
   "execution_count": 19,
   "id": "2deb9691-d626-42f4-9d59-eaf6029636d4",
   "metadata": {},
   "outputs": [
    {
     "name": "stdout",
     "output_type": "stream",
     "text": [
      "Usual Suspects 7.0\n",
      "Hitman 6.3\n",
      "Dark Knight 9.0\n",
      "The Help 8.0\n",
      "The Choice 6.2\n",
      "Colonia 7.4\n",
      "Love 6.0\n",
      "Joking muck 7.2\n",
      "What is the name 9.2\n",
      "Detective 7.0\n",
      "We Two 7.2\n"
     ]
    }
   ],
   "source": [
    "def good_with_score(movies):\n",
    "    return [movie for movie in movies if movie[\"imdb\"] > 5.5]\n",
    "\n",
    "good_movies = good_with_score(movies)\n",
    "\n",
    "for movie in good_movies:\n",
    "    print(movie[\"name\"], movie[\"imdb\"])"
   ]
  },
  {
   "cell_type": "code",
   "execution_count": 25,
   "id": "1c237c5d-0ba4-4279-b541-4cfa7ee5b47e",
   "metadata": {},
   "outputs": [
    {
     "name": "stdin",
     "output_type": "stream",
     "text": [
      " Comedy\n"
     ]
    },
    {
     "name": "stdout",
     "output_type": "stream",
     "text": [
      "Joking muck 7.2\n"
     ]
    }
   ],
   "source": [
    "def movies_by_category(category, movies):\n",
    "    return [movie for movie in movies if movie[\"category\"].lower() == category.lower()]\n",
    "\n",
    "category_name = input()\n",
    "romance_movies = movies_by_category(category_name, movies)\n",
    "\n",
    "for movie in romance_movies:\n",
    "    print(movie[\"name\"], movie[\"imdb\"])"
   ]
  },
  {
   "cell_type": "code",
   "execution_count": 29,
   "id": "36e5f94d-cb21-47a2-80aa-e37224162e48",
   "metadata": {},
   "outputs": [
    {
     "name": "stdout",
     "output_type": "stream",
     "text": [
      "6.486666666666666\n"
     ]
    }
   ],
   "source": [
    "def average(movies):\n",
    "    total_score = sum(movie[\"imdb\"] for movie in movies)\n",
    "    return total_score / len(movies) if movies else 0\n",
    "avg_score = average(movies)\n",
    "print(avg_score)"
   ]
  },
  {
   "cell_type": "code",
   "execution_count": 35,
   "id": "fa3bd141-3ddd-4e38-80a6-6b946531abe5",
   "metadata": {},
   "outputs": [
    {
     "name": "stdin",
     "output_type": "stream",
     "text": [
      " Romance\n"
     ]
    },
    {
     "name": "stdout",
     "output_type": "stream",
     "text": [
      "6.44\n"
     ]
    }
   ],
   "source": [
    "def average_category(category, movies):\n",
    "    filtered_movies = [movie for movie in movies if movie[\"category\"].lower() == category.lower()]\n",
    "    if filtered_movies:\n",
    "        total_score = sum(movie[\"imdb\"] for movie in filtered_movies)\n",
    "        return total_score / len(filtered_movies)\n",
    "    else:\n",
    "        return 0 \n",
    "\n",
    "category_name = input()\n",
    "avg_score = average_category(category_name, movies)\n",
    "print(avg_score)"
   ]
  },
  {
   "cell_type": "markdown",
   "id": "6fdf4aaa-2118-4eaf-9236-702f3340c781",
   "metadata": {},
   "source": [
    "CLASSES\n"
   ]
  },
  {
   "cell_type": "code",
   "execution_count": 40,
   "id": "78942586-31e2-494d-9652-1835a9a73788",
   "metadata": {},
   "outputs": [
    {
     "name": "stdin",
     "output_type": "stream",
     "text": [
      " Hello World\n"
     ]
    },
    {
     "name": "stdout",
     "output_type": "stream",
     "text": [
      "HELLO WORLD\n"
     ]
    }
   ],
   "source": [
    "class StringManipulator:\n",
    "    def __init__(self):\n",
    "        self.input_string = \"\"\n",
    "    def getString(self):\n",
    "        self.input_string = input()\n",
    "\n",
    "    def printString(self):\n",
    "        print(self.input_string.upper())\n",
    "\n",
    "\n",
    "string_manipulator = StringManipulator()\n",
    "string_manipulator.getString() \n",
    "string_manipulator.printString()  "
   ]
  },
  {
   "cell_type": "code",
   "execution_count": 42,
   "id": "4b5ac4dc-e35a-4c55-8404-4c4672e04ebd",
   "metadata": {},
   "outputs": [
    {
     "name": "stdout",
     "output_type": "stream",
     "text": [
      "Shape area: 0\n",
      "Square area: 16\n"
     ]
    }
   ],
   "source": [
    "class Shape:\n",
    "    def area(self):\n",
    "        return 0  \n",
    "\n",
    "class Square(Shape):\n",
    "    def __init__(self, length):\n",
    "        self.length = length \n",
    "\n",
    "    def area(self):\n",
    "        return self.length ** 2  \n",
    "\n",
    "shape = Shape()\n",
    "print(f\"Shape area: {shape.area()}\")  \n",
    "\n",
    "square = Square(4)\n",
    "print(f\"Square area: {square.area()}\")  "
   ]
  },
  {
   "cell_type": "code",
   "execution_count": 44,
   "id": "797704dd-b7ca-430b-9263-c410f859abce",
   "metadata": {},
   "outputs": [
    {
     "name": "stdout",
     "output_type": "stream",
     "text": [
      "Shape area: 0\n",
      "Rectangle area: 15\n"
     ]
    }
   ],
   "source": [
    "class Shape:\n",
    "    def area(self):\n",
    "        return 0  \n",
    "class Rectangle(Shape):\n",
    "    def __init__(self, length, width):\n",
    "        self.length = length\n",
    "        self.width = width\n",
    "    def area(self):\n",
    "        return self.length * self.width  \n",
    "\n",
    "shape = Shape()\n",
    "print(f\"Shape area: {shape.area()}\")  \n",
    "rectangle = Rectangle(5, 3)\n",
    "print(f\"Rectangle area: {rectangle.area()}\")  "
   ]
  },
  {
   "cell_type": "code",
   "execution_count": 48,
   "id": "9c539bb6-914b-44bd-a525-f8d93e285cb7",
   "metadata": {},
   "outputs": [
    {
     "name": "stdout",
     "output_type": "stream",
     "text": [
      "Coordinates: (1, 2)\n",
      "Coordinates: (4, 6)\n",
      "Coordinates: (4, 4)\n",
      "Distance: 2.00\n"
     ]
    }
   ],
   "source": [
    "import math\n",
    "\n",
    "class Point:\n",
    "    def __init__(self, x, y):\n",
    "        self.x = x\n",
    "        self.y = y\n",
    "    def show(self):\n",
    "        print(f\"Coordinates: ({self.x}, {self.y})\")\n",
    "    def move(self, dx, dy):\n",
    "        self.x += dx\n",
    "        self.y += dy\n",
    "    def dist(self, other_point):\n",
    "        return math.sqrt((self.x - other_point.x) ** 2 + (self.y - other_point.y) ** 2)\n",
    "\n",
    "point1 = Point(1, 2)\n",
    "point2 = Point(4, 6)\n",
    "point1.show()  \n",
    "point2.show()  \n",
    "point1.move(3, 2)\n",
    "point1.show()  \n",
    "distance = point1.dist(point2)\n",
    "print(f\"Distance: {distance:.2f}\")"
   ]
  },
  {
   "cell_type": "code",
   "execution_count": 52,
   "id": "a2847872-3d04-4bf4-8c0f-eb07162b6e07",
   "metadata": {},
   "outputs": [
    {
     "name": "stdout",
     "output_type": "stream",
     "text": [
      "Deposited: $500. New balance: $1500\n",
      "Withdrew: $200. New balance: $1300\n",
      "Insufficient funds for withdrawal.\n",
      "Deposited: $300. New balance: $1600\n",
      "Withdrew: $700. New balance: $900\n"
     ]
    }
   ],
   "source": [
    "class Account:\n",
    "    def __init__(self, owner, balance=0):\n",
    "        self.owner = owner\n",
    "        self.balance = balance\n",
    "\n",
    "    def deposit(self, amount):\n",
    "        if amount > 0:\n",
    "            self.balance += amount\n",
    "            print(f\"Deposited: ${amount}. New balance: ${self.balance}\")\n",
    "        else:\n",
    "            print(\"Deposit amount must be positive.\")\n",
    "\n",
    "    def withdraw(self, amount):\n",
    "        if amount <= self.balance:\n",
    "            self.balance -= amount\n",
    "            print(f\"Withdrew: ${amount}. New balance: ${self.balance}\")\n",
    "        else:\n",
    "            print(\"Insufficient funds for withdrawal.\")\n",
    "\n",
    "account = Account(\"Mark Yeriskin\", 1000)\n",
    "\n",
    "\n",
    "account.deposit(500)  \n",
    "account.withdraw(200) \n",
    "account.withdraw(1500) \n",
    "account.deposit(300)  \n",
    "account.withdraw(700)  "
   ]
  },
  {
   "cell_type": "code",
   "execution_count": 64,
   "id": "4d92b315-e35f-4e85-8f24-604ab4de2959",
   "metadata": {},
   "outputs": [
    {
     "name": "stdout",
     "output_type": "stream",
     "text": [
      "Prime numbers: [2, 3, 5, 7, 11, 13]\n"
     ]
    }
   ],
   "source": [
    "is_prime = lambda x: x > 1 and all(x % i != 0 for i in range(2, int(x ** 0.5) + 1))\n",
    "\n",
    "numbers = [1, 2, 3, 4, 5, 6, 7, 8, 9, 10, 11, 12, 13, 14, 15, 16]\n",
    "\n",
    "prime_numbers = list(filter(is_prime, numbers))\n",
    "\n",
    "print(\"Prime numbers:\", prime_numbers)"
   ]
  },
  {
   "cell_type": "code",
   "execution_count": null,
   "id": "d5aacdcf-0187-450b-b04b-d534c663d857",
   "metadata": {},
   "outputs": [],
   "source": []
  }
 ],
 "metadata": {
  "kernelspec": {
   "display_name": "Python [conda env:base] *",
   "language": "python",
   "name": "conda-base-py"
  },
  "language_info": {
   "codemirror_mode": {
    "name": "ipython",
    "version": 3
   },
   "file_extension": ".py",
   "mimetype": "text/x-python",
   "name": "python",
   "nbconvert_exporter": "python",
   "pygments_lexer": "ipython3",
   "version": "3.12.7"
  }
 },
 "nbformat": 4,
 "nbformat_minor": 5
}
