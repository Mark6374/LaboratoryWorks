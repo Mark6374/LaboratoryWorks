{
 "cells": [
  {
   "cell_type": "markdown",
   "id": "54a8ae3e-c831-436e-8806-6feb1d6febbd",
   "metadata": {},
   "source": [
    "HOME"
   ]
  },
  {
   "cell_type": "code",
   "execution_count": 411,
   "id": "27b43bf7-b889-4bbc-9ed6-bcfebfc563b1",
   "metadata": {},
   "outputs": [
    {
     "name": "stdout",
     "output_type": "stream",
     "text": [
      "Hello, World!\n"
     ]
    }
   ],
   "source": [
    "print(\"Hello, World!\")"
   ]
  },
  {
   "cell_type": "markdown",
   "id": "940a3f37-8710-4797-a103-f77e4b91f6c2",
   "metadata": {},
   "source": [
    "Syntax"
   ]
  },
  {
   "cell_type": "code",
   "execution_count": 413,
   "id": "5b3cbeff-91fa-423e-88ce-b7fe05e0f73d",
   "metadata": {},
   "outputs": [
    {
     "name": "stdout",
     "output_type": "stream",
     "text": [
      "Five is greater than two!\n"
     ]
    }
   ],
   "source": [
    "if 5 > 2:\n",
    "  print(\"Five is greater than two!\")"
   ]
  },
  {
   "cell_type": "code",
   "execution_count": 414,
   "id": "ae5289f7-d02c-452f-87c3-3915bd7964b1",
   "metadata": {},
   "outputs": [
    {
     "name": "stdout",
     "output_type": "stream",
     "text": [
      "Five is greater than two!\n",
      "Five is greater than two!\n"
     ]
    }
   ],
   "source": [
    "if 5 > 2:\n",
    " print(\"Five is greater than two!\") \n",
    "if 5 > 2:\n",
    "        print(\"Five is greater than two!\") "
   ]
  },
  {
   "cell_type": "markdown",
   "id": "8e2e6b8c-3408-4a4e-bab9-3e62010ea462",
   "metadata": {},
   "source": [
    "Comments"
   ]
  },
  {
   "cell_type": "code",
   "execution_count": 416,
   "id": "30b42061-51f2-4ce2-bda9-cd34bcb7ec47",
   "metadata": {},
   "outputs": [
    {
     "name": "stdout",
     "output_type": "stream",
     "text": [
      "Hello, World!\n"
     ]
    }
   ],
   "source": [
    "#This is a comment\n",
    "print(\"Hello, World!\")"
   ]
  },
  {
   "cell_type": "code",
   "execution_count": 417,
   "id": "b67abc8d-d0e0-4cbc-99ff-5e0d15bbcc78",
   "metadata": {},
   "outputs": [
    {
     "name": "stdout",
     "output_type": "stream",
     "text": [
      "Hello, World!\n"
     ]
    }
   ],
   "source": [
    "print(\"Hello, World!\") #This is a comment"
   ]
  },
  {
   "cell_type": "code",
   "execution_count": 418,
   "id": "563684c1-bf7d-487d-b3d3-406d831e5e50",
   "metadata": {},
   "outputs": [
    {
     "name": "stdout",
     "output_type": "stream",
     "text": [
      "Cheers, Mate!\n"
     ]
    }
   ],
   "source": [
    "#print(\"Hello, World!\")\n",
    "print(\"Cheers, Mate!\")"
   ]
  },
  {
   "cell_type": "markdown",
   "id": "b76b49e3-d846-4601-96f6-941d769ebab0",
   "metadata": {},
   "source": [
    "Variables"
   ]
  },
  {
   "cell_type": "code",
   "execution_count": 420,
   "id": "20621f44-ca0b-4734-9957-d53a2ed79ac2",
   "metadata": {},
   "outputs": [
    {
     "name": "stdout",
     "output_type": "stream",
     "text": [
      "5\n",
      "John\n"
     ]
    }
   ],
   "source": [
    "x = 5\n",
    "y = \"John\"\n",
    "print(x)\n",
    "print(y)"
   ]
  },
  {
   "cell_type": "code",
   "execution_count": 421,
   "id": "bff4d6fc-6ec1-4d08-9a56-def0944ace41",
   "metadata": {},
   "outputs": [
    {
     "name": "stdout",
     "output_type": "stream",
     "text": [
      "Sally\n"
     ]
    }
   ],
   "source": [
    "x = 4       # x is of type int\n",
    "x = \"Sally\" # x is now of type str\n",
    "print(x)"
   ]
  },
  {
   "cell_type": "code",
   "execution_count": 422,
   "id": "8c2346d0-2e63-4a85-8a46-8c2d8b43b44f",
   "metadata": {},
   "outputs": [],
   "source": [
    "x = str(3)    # x will be '3'\n",
    "y = int(3)    # y will be 3\n",
    "z = float(3)  # z will be 3.0"
   ]
  },
  {
   "cell_type": "code",
   "execution_count": 423,
   "id": "7ea4cfeb-8227-4693-ae60-2c3c6d128cec",
   "metadata": {},
   "outputs": [
    {
     "name": "stdout",
     "output_type": "stream",
     "text": [
      "<class 'int'>\n",
      "<class 'str'>\n"
     ]
    }
   ],
   "source": [
    "x = 5\n",
    "y = \"John\"\n",
    "print(type(x))\n",
    "print(type(y))"
   ]
  },
  {
   "cell_type": "code",
   "execution_count": 424,
   "id": "3b12618b-3f38-4c48-a11c-97f7bef3bd43",
   "metadata": {},
   "outputs": [],
   "source": [
    "x = \"John\"\n",
    "# is the same as\n",
    "x = 'John'"
   ]
  },
  {
   "cell_type": "code",
   "execution_count": 425,
   "id": "ca451983-7570-4516-bbdf-04f4a9d86e2a",
   "metadata": {},
   "outputs": [],
   "source": [
    "a = 4\n",
    "A = \"Sally\"\n",
    "#A will not overwrite a"
   ]
  },
  {
   "cell_type": "markdown",
   "id": "a9e2a0f6-a727-4671-83aa-4e11c2318782",
   "metadata": {},
   "source": [
    "Variable Names"
   ]
  },
  {
   "cell_type": "code",
   "execution_count": 427,
   "id": "e0fa2005-c0ed-4448-9de2-f6865eae8cb2",
   "metadata": {},
   "outputs": [],
   "source": [
    "myvar = \"John\"\n",
    "my_var = \"John\"\n",
    "_my_var = \"John\"\n",
    "myVar = \"John\"\n",
    "MYVAR = \"John\"\n",
    "myvar2 = \"John\""
   ]
  },
  {
   "cell_type": "markdown",
   "id": "388fe011-2e86-4d5a-8ad0-c7c6cacc9e1c",
   "metadata": {},
   "source": [
    "Assign Multiple Values"
   ]
  },
  {
   "cell_type": "code",
   "execution_count": 429,
   "id": "722e9ba6-8371-4ccd-b38a-9662adfa865c",
   "metadata": {},
   "outputs": [
    {
     "name": "stdout",
     "output_type": "stream",
     "text": [
      "Orange\n",
      "Banana\n",
      "Cherry\n"
     ]
    }
   ],
   "source": [
    "x, y, z = \"Orange\", \"Banana\", \"Cherry\"\n",
    "print(x)\n",
    "print(y)\n",
    "print(z)"
   ]
  },
  {
   "cell_type": "code",
   "execution_count": 430,
   "id": "7ebb9362-b4d9-46f2-b9f4-23c10d37a2c2",
   "metadata": {},
   "outputs": [
    {
     "name": "stdout",
     "output_type": "stream",
     "text": [
      "Orange\n",
      "Orange\n",
      "Orange\n"
     ]
    }
   ],
   "source": [
    "x = y = z = \"Orange\"\n",
    "print(x)\n",
    "print(y)\n",
    "print(z)"
   ]
  },
  {
   "cell_type": "code",
   "execution_count": 431,
   "id": "9fbe8f0f-7dcc-4f1e-bf4b-18c898c1d299",
   "metadata": {},
   "outputs": [
    {
     "name": "stdout",
     "output_type": "stream",
     "text": [
      "apple\n",
      "banana\n",
      "cherry\n"
     ]
    }
   ],
   "source": [
    "fruits = [\"apple\", \"banana\", \"cherry\"]\n",
    "x, y, z = fruits\n",
    "print(x)\n",
    "print(y)\n",
    "print(z)"
   ]
  },
  {
   "cell_type": "markdown",
   "id": "005b3f7b-ad12-488c-933a-36a3b87b337f",
   "metadata": {},
   "source": [
    "Output Variables"
   ]
  },
  {
   "cell_type": "code",
   "execution_count": 433,
   "id": "653fc297-f0e9-47cf-be40-3d96dd37815c",
   "metadata": {},
   "outputs": [
    {
     "name": "stdout",
     "output_type": "stream",
     "text": [
      "Python is awesome\n"
     ]
    }
   ],
   "source": [
    "x = \"Python is awesome\"\n",
    "print(x)"
   ]
  },
  {
   "cell_type": "code",
   "execution_count": 434,
   "id": "117ea430-34b1-4100-bdfc-e5484d95d694",
   "metadata": {},
   "outputs": [
    {
     "name": "stdout",
     "output_type": "stream",
     "text": [
      "Python is awesome\n"
     ]
    }
   ],
   "source": [
    "x = \"Python\"\n",
    "y = \"is\"\n",
    "z = \"awesome\"\n",
    "print(x, y, z)"
   ]
  },
  {
   "cell_type": "code",
   "execution_count": 435,
   "id": "6f2ec9d9-6ccf-4cbe-8c68-a9cb8a30726a",
   "metadata": {},
   "outputs": [
    {
     "name": "stdout",
     "output_type": "stream",
     "text": [
      "Python is awesome\n"
     ]
    }
   ],
   "source": [
    "x = \"Python \"\n",
    "y = \"is \"\n",
    "z = \"awesome\"\n",
    "print(x + y + z)"
   ]
  },
  {
   "cell_type": "code",
   "execution_count": 436,
   "id": "95029df0-5aac-4eed-8514-9318e3ee7f0d",
   "metadata": {},
   "outputs": [
    {
     "name": "stdout",
     "output_type": "stream",
     "text": [
      "15\n"
     ]
    }
   ],
   "source": [
    "x = 5\n",
    "y = 10\n",
    "print(x + y)"
   ]
  },
  {
   "cell_type": "code",
   "execution_count": 437,
   "id": "ac664aef-85d6-464b-8841-9e36b0d418b6",
   "metadata": {},
   "outputs": [
    {
     "name": "stdout",
     "output_type": "stream",
     "text": [
      "5 John\n"
     ]
    }
   ],
   "source": [
    "x = 5\n",
    "y = \"John\"\n",
    "print(x, y)"
   ]
  },
  {
   "cell_type": "markdown",
   "id": "7c39a309-e8f0-471c-8103-da9b1fbc20d8",
   "metadata": {},
   "source": [
    "Global Variables"
   ]
  },
  {
   "cell_type": "code",
   "execution_count": 439,
   "id": "6f467965-63cd-444b-a617-acba4cba5d77",
   "metadata": {},
   "outputs": [
    {
     "name": "stdout",
     "output_type": "stream",
     "text": [
      "Python is awesome\n"
     ]
    }
   ],
   "source": [
    "x = \"awesome\"\n",
    "\n",
    "def myfunc():\n",
    "  print(\"Python is \" + x)\n",
    "\n",
    "myfunc()"
   ]
  },
  {
   "cell_type": "code",
   "execution_count": 440,
   "id": "e7e7a412-9b1b-4c4d-9488-6b5bd1243d32",
   "metadata": {},
   "outputs": [
    {
     "name": "stdout",
     "output_type": "stream",
     "text": [
      "Python is fantastic\n",
      "Python is awesome\n"
     ]
    }
   ],
   "source": [
    "x = \"awesome\"\n",
    "\n",
    "def myfunc():\n",
    "  x = \"fantastic\"\n",
    "  print(\"Python is \" + x)\n",
    "\n",
    "myfunc()\n",
    "\n",
    "print(\"Python is \" + x)"
   ]
  },
  {
   "cell_type": "code",
   "execution_count": 441,
   "id": "ac9a4837-bb14-4c88-bc8a-1cb36ee9937e",
   "metadata": {},
   "outputs": [
    {
     "name": "stdout",
     "output_type": "stream",
     "text": [
      "Python is fantastic\n"
     ]
    }
   ],
   "source": [
    "def myfunc():\n",
    "  global x\n",
    "  x = \"fantastic\"\n",
    "\n",
    "myfunc()\n",
    "\n",
    "print(\"Python is \" + x)"
   ]
  },
  {
   "cell_type": "code",
   "execution_count": 442,
   "id": "385f1765-f434-4699-a6e8-714362a51d91",
   "metadata": {},
   "outputs": [
    {
     "name": "stdout",
     "output_type": "stream",
     "text": [
      "Python is fantastic\n"
     ]
    }
   ],
   "source": [
    "x = \"awesome\"\n",
    "\n",
    "def myfunc():\n",
    "  global x\n",
    "  x = \"fantastic\"\n",
    "\n",
    "myfunc()\n",
    "\n",
    "print(\"Python is \" + x)"
   ]
  },
  {
   "cell_type": "markdown",
   "id": "cee440eb-1e93-4d00-b96d-b9b978a8f6a0",
   "metadata": {},
   "source": [
    "Data Types"
   ]
  },
  {
   "cell_type": "code",
   "execution_count": 444,
   "id": "04a16fd3-db40-4359-94d9-545287749ff6",
   "metadata": {},
   "outputs": [
    {
     "name": "stdout",
     "output_type": "stream",
     "text": [
      "<class 'int'>\n"
     ]
    }
   ],
   "source": [
    "x = 5\n",
    "print(type(x))"
   ]
  },
  {
   "cell_type": "code",
   "execution_count": 445,
   "id": "fdb470bd-300a-4501-8c70-568054df1cde",
   "metadata": {},
   "outputs": [],
   "source": [
    "#Text Type:\tstr\n",
    "#Numeric Types:\tint, float, complex\n",
    "#Sequence Types:\tlist, tuple, range\n",
    "#Mapping Type:\tdict\n",
    "#Set Types:\tset, frozenset\n",
    "#Boolean Type:\tbool\n",
    "#Binary Types:\tbytes, bytearray, memoryview\n",
    "#None Type:\tNoneType"
   ]
  },
  {
   "cell_type": "code",
   "execution_count": 446,
   "id": "7a75855d-777b-4bbf-ab64-14b8ac6346ca",
   "metadata": {},
   "outputs": [
    {
     "name": "stdout",
     "output_type": "stream",
     "text": [
      "Hello World\n",
      "<class 'str'>\n"
     ]
    }
   ],
   "source": [
    "x = \"Hello World\"\n",
    "\n",
    "print(x)\n",
    "\n",
    "print(type(x)) \n"
   ]
  },
  {
   "cell_type": "code",
   "execution_count": 447,
   "id": "01ca1639-560d-41e2-9677-0eaacdfdf52d",
   "metadata": {},
   "outputs": [
    {
     "name": "stdout",
     "output_type": "stream",
     "text": [
      "20\n",
      "<class 'int'>\n"
     ]
    }
   ],
   "source": [
    "x = 20\n",
    "\n",
    "print(x)\n",
    "\n",
    "print(type(x)) "
   ]
  },
  {
   "cell_type": "code",
   "execution_count": 448,
   "id": "4697bb42-9d2b-4278-aa18-fd6bbe07cb60",
   "metadata": {},
   "outputs": [
    {
     "name": "stdout",
     "output_type": "stream",
     "text": [
      "20.5\n",
      "<class 'float'>\n"
     ]
    }
   ],
   "source": [
    "x = 20.5\n",
    "\n",
    "print(x)\n",
    "\n",
    "print(type(x)) \n"
   ]
  },
  {
   "cell_type": "code",
   "execution_count": 449,
   "id": "a44c194f-c047-4e89-940f-658ba43e8b4c",
   "metadata": {},
   "outputs": [
    {
     "name": "stdout",
     "output_type": "stream",
     "text": [
      "1j\n",
      "<class 'complex'>\n"
     ]
    }
   ],
   "source": [
    "x = 1j\n",
    "\n",
    "print(x)\n",
    "\n",
    "print(type(x)) "
   ]
  },
  {
   "cell_type": "code",
   "execution_count": 450,
   "id": "53c21621-9e34-4f55-b023-dc5eaef76932",
   "metadata": {},
   "outputs": [
    {
     "name": "stdout",
     "output_type": "stream",
     "text": [
      "['apple', 'banana', 'cherry']\n",
      "<class 'list'>\n"
     ]
    }
   ],
   "source": [
    "x = [\"apple\", \"banana\", \"cherry\"]\n",
    "\n",
    "print(x)\n",
    "\n",
    "print(type(x)) \n"
   ]
  },
  {
   "cell_type": "code",
   "execution_count": 451,
   "id": "3c1570ba-6e45-4cf7-8f36-ca8bd2a2758e",
   "metadata": {},
   "outputs": [
    {
     "name": "stdout",
     "output_type": "stream",
     "text": [
      "('apple', 'banana', 'cherry')\n",
      "<class 'tuple'>\n"
     ]
    }
   ],
   "source": [
    "x = (\"apple\", \"banana\", \"cherry\")\n",
    "\n",
    "print(x)\n",
    "\n",
    "print(type(x)) \n"
   ]
  },
  {
   "cell_type": "code",
   "execution_count": 452,
   "id": "d7079e03-86f5-4194-b8e3-ae27a6425378",
   "metadata": {},
   "outputs": [
    {
     "name": "stdout",
     "output_type": "stream",
     "text": [
      "range(0, 6)\n",
      "<class 'range'>\n"
     ]
    }
   ],
   "source": [
    "x = range(6)\n",
    "\n",
    "print(x)\n",
    "\n",
    "print(type(x)) \n"
   ]
  },
  {
   "cell_type": "code",
   "execution_count": 453,
   "id": "4304805a-be49-48a1-a3e4-ab5a9277954a",
   "metadata": {},
   "outputs": [
    {
     "name": "stdout",
     "output_type": "stream",
     "text": [
      "{'name': 'John', 'age': 36}\n",
      "<class 'dict'>\n"
     ]
    }
   ],
   "source": [
    "x = {\"name\" : \"John\", \"age\" : 36}\n",
    "\n",
    "print(x)\n",
    "\n",
    "print(type(x)) \n"
   ]
  },
  {
   "cell_type": "code",
   "execution_count": 454,
   "id": "2d67e235-ff83-4ab0-a6c6-a373eb4b2b90",
   "metadata": {},
   "outputs": [
    {
     "name": "stdout",
     "output_type": "stream",
     "text": [
      "{'cherry', 'apple', 'banana'}\n",
      "<class 'set'>\n"
     ]
    }
   ],
   "source": [
    "x = {\"apple\", \"banana\", \"cherry\"}\n",
    "\n",
    "print(x)\n",
    "\n",
    "print(type(x)) \n"
   ]
  },
  {
   "cell_type": "code",
   "execution_count": 455,
   "id": "b9f55dd9-b0fc-468a-ad59-3ae0a7423bf4",
   "metadata": {},
   "outputs": [
    {
     "name": "stdout",
     "output_type": "stream",
     "text": [
      "frozenset({'cherry', 'apple', 'banana'})\n",
      "<class 'frozenset'>\n"
     ]
    }
   ],
   "source": [
    "x = frozenset({\"apple\", \"banana\", \"cherry\"})\n",
    "\n",
    "print(x)\n",
    "\n",
    "print(type(x)) \n"
   ]
  },
  {
   "cell_type": "code",
   "execution_count": 456,
   "id": "1027137f-4dae-433e-acc3-a81a5de7aaff",
   "metadata": {},
   "outputs": [
    {
     "name": "stdout",
     "output_type": "stream",
     "text": [
      "True\n",
      "<class 'bool'>\n"
     ]
    }
   ],
   "source": [
    "x = True\n",
    "\n",
    "print(x)\n",
    "\n",
    "print(type(x)) \n"
   ]
  },
  {
   "cell_type": "code",
   "execution_count": 457,
   "id": "b0fb8a65-b139-4b3c-94ed-46290c61f6cb",
   "metadata": {},
   "outputs": [
    {
     "name": "stdout",
     "output_type": "stream",
     "text": [
      "b'Hello'\n",
      "<class 'bytes'>\n"
     ]
    }
   ],
   "source": [
    "x = b\"Hello\"\n",
    "\n",
    "print(x)\n",
    "\n",
    "print(type(x)) "
   ]
  },
  {
   "cell_type": "code",
   "execution_count": 458,
   "id": "16bfcbcb-8857-4eb3-ae9f-370ca3796af8",
   "metadata": {},
   "outputs": [
    {
     "name": "stdout",
     "output_type": "stream",
     "text": [
      "bytearray(b'\\x00\\x00\\x00\\x00\\x00')\n",
      "<class 'bytearray'>\n"
     ]
    }
   ],
   "source": [
    "x = bytearray(5)\n",
    "\n",
    "print(x)\n",
    "\n",
    "print(type(x)) \n"
   ]
  },
  {
   "cell_type": "code",
   "execution_count": 459,
   "id": "6e048e6f-7ebb-455f-bad2-7034c29a53bf",
   "metadata": {},
   "outputs": [
    {
     "name": "stdout",
     "output_type": "stream",
     "text": [
      "<memory at 0x1054e9900>\n",
      "<class 'memoryview'>\n"
     ]
    }
   ],
   "source": [
    "x = memoryview(bytes(5))\n",
    "\n",
    "print(x)\n",
    "\n",
    "print(type(x)) \n"
   ]
  },
  {
   "cell_type": "code",
   "execution_count": 460,
   "id": "83d4edda-64eb-4812-995a-e41e5a944762",
   "metadata": {},
   "outputs": [
    {
     "name": "stdout",
     "output_type": "stream",
     "text": [
      "None\n",
      "<class 'NoneType'>\n"
     ]
    }
   ],
   "source": [
    "x = None\n",
    "\n",
    "print(x)\n",
    "\n",
    "print(type(x)) \n"
   ]
  },
  {
   "cell_type": "markdown",
   "id": "d1d3bbb1-272c-424c-8977-0388d207484d",
   "metadata": {},
   "source": [
    "Specific Data Type"
   ]
  },
  {
   "cell_type": "code",
   "execution_count": 462,
   "id": "2652af91-25d8-4eea-b522-7d4cb3309ce0",
   "metadata": {},
   "outputs": [
    {
     "name": "stdout",
     "output_type": "stream",
     "text": [
      "Hello World\n",
      "<class 'str'>\n"
     ]
    }
   ],
   "source": [
    "x = str(\"Hello World\")\n",
    "\n",
    "print(x)\n",
    "\n",
    "print(type(x)) \n"
   ]
  },
  {
   "cell_type": "code",
   "execution_count": 463,
   "id": "e078bcee-314f-457e-abff-a6a996de78e8",
   "metadata": {},
   "outputs": [
    {
     "name": "stdout",
     "output_type": "stream",
     "text": [
      "20\n",
      "<class 'int'>\n"
     ]
    }
   ],
   "source": [
    "x = int(20)\n",
    "\n",
    "\n",
    "print(x)\n",
    "\n",
    "print(type(x)) \n"
   ]
  },
  {
   "cell_type": "code",
   "execution_count": 464,
   "id": "6ee25682-951f-4a82-a4d4-2cfb51781ce2",
   "metadata": {},
   "outputs": [
    {
     "name": "stdout",
     "output_type": "stream",
     "text": [
      "20.5\n",
      "<class 'float'>\n"
     ]
    }
   ],
   "source": [
    "x = float(20.5)\n",
    "\n",
    "print(x)\n",
    "\n",
    "print(type(x)) \n"
   ]
  },
  {
   "cell_type": "code",
   "execution_count": 465,
   "id": "39f1551a-c824-49b4-badf-b97e2f1f3690",
   "metadata": {},
   "outputs": [
    {
     "name": "stdout",
     "output_type": "stream",
     "text": [
      "1j\n",
      "<class 'complex'>\n"
     ]
    }
   ],
   "source": [
    "x = complex(1j)\n",
    "\n",
    "print(x)\n",
    "\n",
    "print(type(x)) \n"
   ]
  },
  {
   "cell_type": "code",
   "execution_count": 466,
   "id": "9b7914eb-116d-4500-9836-96fba59ee840",
   "metadata": {},
   "outputs": [
    {
     "name": "stdout",
     "output_type": "stream",
     "text": [
      "['apple', 'banana', 'cherry']\n",
      "<class 'list'>\n"
     ]
    }
   ],
   "source": [
    "x = list((\"apple\", \"banana\", \"cherry\"))\n",
    "\n",
    "print(x)\n",
    "\n",
    "print(type(x)) \n"
   ]
  },
  {
   "cell_type": "code",
   "execution_count": 467,
   "id": "4dc7a449-17a9-42a1-a365-fe13fcce6146",
   "metadata": {},
   "outputs": [
    {
     "name": "stdout",
     "output_type": "stream",
     "text": [
      "('apple', 'banana', 'cherry')\n",
      "<class 'tuple'>\n"
     ]
    }
   ],
   "source": [
    "x = tuple((\"apple\", \"banana\", \"cherry\"))\n",
    "\n",
    "print(x)\n",
    "\n",
    "print(type(x)) \n"
   ]
  },
  {
   "cell_type": "code",
   "execution_count": 468,
   "id": "6ea40af0-c5ad-494c-99a8-4fba0899d95b",
   "metadata": {},
   "outputs": [
    {
     "name": "stdout",
     "output_type": "stream",
     "text": [
      "range(0, 6)\n",
      "<class 'range'>\n"
     ]
    }
   ],
   "source": [
    "x = range(6)\n",
    "\n",
    "print(x)\n",
    "\n",
    "print(type(x)) \n"
   ]
  },
  {
   "cell_type": "code",
   "execution_count": 469,
   "id": "a0137e1e-6339-464e-8f8f-1eb0a4efaa01",
   "metadata": {},
   "outputs": [
    {
     "name": "stdout",
     "output_type": "stream",
     "text": [
      "{'name': 'John', 'age': 36}\n",
      "<class 'dict'>\n"
     ]
    }
   ],
   "source": [
    "x = dict(name=\"John\", age=36)\n",
    "\n",
    "print(x)\n",
    "\n",
    "print(type(x)) \n"
   ]
  },
  {
   "cell_type": "code",
   "execution_count": 470,
   "id": "efa0d300-07a7-41a2-b76a-83ae32f24223",
   "metadata": {},
   "outputs": [
    {
     "name": "stdout",
     "output_type": "stream",
     "text": [
      "{'cherry', 'apple', 'banana'}\n",
      "<class 'set'>\n"
     ]
    }
   ],
   "source": [
    "x = set((\"apple\", \"banana\", \"cherry\"))\n",
    "\n",
    "print(x)\n",
    "\n",
    "print(type(x)) \n"
   ]
  },
  {
   "cell_type": "code",
   "execution_count": 471,
   "id": "7b076976-f4d4-428f-9066-80629bfe03a6",
   "metadata": {},
   "outputs": [
    {
     "name": "stdout",
     "output_type": "stream",
     "text": [
      "frozenset({'cherry', 'apple', 'banana'})\n",
      "<class 'frozenset'>\n"
     ]
    }
   ],
   "source": [
    "x = frozenset((\"apple\", \"banana\", \"cherry\"))\n",
    "\n",
    "\n",
    "print(x)\n",
    "\n",
    "print(type(x)) \n"
   ]
  },
  {
   "cell_type": "code",
   "execution_count": 472,
   "id": "9f90dd8b-6055-45fc-8571-29665c3f3573",
   "metadata": {},
   "outputs": [
    {
     "name": "stdout",
     "output_type": "stream",
     "text": [
      "True\n",
      "<class 'bool'>\n"
     ]
    }
   ],
   "source": [
    "x = bool(5)\n",
    "\n",
    "\n",
    "print(x)\n",
    "\n",
    "print(type(x)) \n"
   ]
  },
  {
   "cell_type": "code",
   "execution_count": 473,
   "id": "e3dd780b-c9c6-46ab-85b4-f1dc63ba8385",
   "metadata": {},
   "outputs": [
    {
     "name": "stdout",
     "output_type": "stream",
     "text": [
      "b'\\x00\\x00\\x00\\x00\\x00'\n",
      "<class 'bytes'>\n"
     ]
    }
   ],
   "source": [
    "x = bytes(5)\n",
    "\n",
    "\n",
    "print(x)\n",
    "\n",
    "\n",
    "print(type(x)) \n"
   ]
  },
  {
   "cell_type": "code",
   "execution_count": 474,
   "id": "b86e755a-4ac6-4797-8a82-ed6abb293ae4",
   "metadata": {},
   "outputs": [
    {
     "name": "stdout",
     "output_type": "stream",
     "text": [
      "bytearray(b'\\x00\\x00\\x00\\x00\\x00')\n",
      "<class 'bytearray'>\n"
     ]
    }
   ],
   "source": [
    "x = bytearray(5)\n",
    "\n",
    "\n",
    "print(x)\n",
    "\n",
    "print(type(x)) \n"
   ]
  },
  {
   "cell_type": "code",
   "execution_count": 475,
   "id": "de53c8e8-afd5-4b3a-a7fb-01575ca692f4",
   "metadata": {},
   "outputs": [
    {
     "name": "stdout",
     "output_type": "stream",
     "text": [
      "<memory at 0x1054e9900>\n",
      "<class 'memoryview'>\n"
     ]
    }
   ],
   "source": [
    "x = memoryview(bytes(5))\n",
    "\n",
    "\n",
    "print(x)\n",
    "\n",
    "\n",
    "print(type(x)) \n"
   ]
  },
  {
   "cell_type": "markdown",
   "id": "eccb7258-4565-4640-a745-de487269bb5f",
   "metadata": {},
   "source": [
    "Numbers"
   ]
  },
  {
   "cell_type": "code",
   "execution_count": 477,
   "id": "dd5fc4c1-c5d3-4b7a-8aa4-0b3ed8b796e3",
   "metadata": {},
   "outputs": [
    {
     "name": "stdout",
     "output_type": "stream",
     "text": [
      "<class 'int'>\n",
      "<class 'float'>\n",
      "<class 'complex'>\n"
     ]
    }
   ],
   "source": [
    "x = 1    # int\n",
    "y = 2.8  # float\n",
    "z = 1j   # complex\n",
    "print(type(x))\n",
    "print(type(y))\n",
    "print(type(z))"
   ]
  },
  {
   "cell_type": "code",
   "execution_count": 478,
   "id": "8cf39535-c73d-48d8-bb09-c97732a7225c",
   "metadata": {},
   "outputs": [
    {
     "name": "stdout",
     "output_type": "stream",
     "text": [
      "<class 'int'>\n",
      "<class 'int'>\n",
      "<class 'int'>\n"
     ]
    }
   ],
   "source": [
    "x = 1\n",
    "y = 35656222554887711\n",
    "z = -3255522\n",
    "\n",
    "print(type(x))\n",
    "print(type(y))\n",
    "print(type(z))"
   ]
  },
  {
   "cell_type": "code",
   "execution_count": 479,
   "id": "9ce0f402-704c-4287-97dc-168af9437c08",
   "metadata": {},
   "outputs": [
    {
     "name": "stdout",
     "output_type": "stream",
     "text": [
      "<class 'float'>\n",
      "<class 'float'>\n",
      "<class 'float'>\n"
     ]
    }
   ],
   "source": [
    "x = 1.10\n",
    "y = 1.0\n",
    "z = -35.59\n",
    "\n",
    "print(type(x))\n",
    "print(type(y))\n",
    "print(type(z))"
   ]
  },
  {
   "cell_type": "code",
   "execution_count": 480,
   "id": "a343d956-3ccc-4afc-bd78-d139195057c5",
   "metadata": {},
   "outputs": [
    {
     "name": "stdout",
     "output_type": "stream",
     "text": [
      "<class 'float'>\n",
      "<class 'float'>\n",
      "<class 'float'>\n"
     ]
    }
   ],
   "source": [
    "x = 35e3\n",
    "y = 12E4\n",
    "z = -87.7e100\n",
    "\n",
    "print(type(x))\n",
    "print(type(y))\n",
    "print(type(z))"
   ]
  },
  {
   "cell_type": "code",
   "execution_count": 481,
   "id": "0bf4e08d-108d-4189-a04c-215e105cd2da",
   "metadata": {},
   "outputs": [
    {
     "name": "stdout",
     "output_type": "stream",
     "text": [
      "<class 'complex'>\n",
      "<class 'complex'>\n",
      "<class 'complex'>\n"
     ]
    }
   ],
   "source": [
    "x = 3+5j\n",
    "y = 5j\n",
    "z = -5j\n",
    "\n",
    "print(type(x))\n",
    "print(type(y))\n",
    "print(type(z))"
   ]
  },
  {
   "cell_type": "code",
   "execution_count": 482,
   "id": "02ce8c00-3dd8-4f3f-97e0-7e92af2871a8",
   "metadata": {},
   "outputs": [
    {
     "name": "stdout",
     "output_type": "stream",
     "text": [
      "1.0\n",
      "2\n",
      "(1+0j)\n",
      "<class 'float'>\n",
      "<class 'int'>\n",
      "<class 'complex'>\n"
     ]
    }
   ],
   "source": [
    "x = 1    \n",
    "y = 2.8  \n",
    "z = 1j  \n",
    "\n",
    "a = float(x)\n",
    "\n",
    "b = int(y)\n",
    "\n",
    "c = complex(x)\n",
    "\n",
    "print(a)\n",
    "print(b)\n",
    "print(c)\n",
    "\n",
    "print(type(a))\n",
    "print(type(b))\n",
    "print(type(c))"
   ]
  },
  {
   "cell_type": "code",
   "execution_count": 483,
   "id": "8d429476-0207-40e1-9e30-69865bb4dedb",
   "metadata": {},
   "outputs": [
    {
     "name": "stdout",
     "output_type": "stream",
     "text": [
      "4\n"
     ]
    }
   ],
   "source": [
    "import random\n",
    "\n",
    "print(random.randrange(1, 10))\n"
   ]
  },
  {
   "cell_type": "markdown",
   "id": "541d73bc-1c0c-4740-82d1-45d40e6f2e85",
   "metadata": {},
   "source": [
    "Casting"
   ]
  },
  {
   "cell_type": "code",
   "execution_count": 485,
   "id": "701d3a10-ea69-4368-b2a3-7b4c507d528e",
   "metadata": {},
   "outputs": [],
   "source": [
    "x = int(1)   # x will be 1\n",
    "y = int(2.8) # y will be 2\n",
    "z = int(\"3\") # z will be 3"
   ]
  },
  {
   "cell_type": "code",
   "execution_count": 486,
   "id": "57f480ce-23e8-4f17-8fd1-b5c3986f6aa8",
   "metadata": {},
   "outputs": [],
   "source": [
    "x = float(1)     # x will be 1.0\n",
    "y = float(2.8)   # y will be 2.8\n",
    "z = float(\"3\")   # z will be 3.0\n",
    "w = float(\"4.2\") # w will be 4.2"
   ]
  },
  {
   "cell_type": "code",
   "execution_count": 554,
   "id": "4542fb33-2f56-436b-adc2-9e6b08832ade",
   "metadata": {},
   "outputs": [],
   "source": [
    "x = str(\"s1\") # x will be 's1'\n",
    "y = str(2)    # y will be '2'\n",
    "z = str(3.0)  # z will be '3.0'"
   ]
  },
  {
   "cell_type": "markdown",
   "id": "cc971f90-cd3e-43a3-9c64-1775056aa156",
   "metadata": {},
   "source": [
    "Strings"
   ]
  },
  {
   "cell_type": "code",
   "execution_count": 557,
   "id": "f2c9544a-3a5f-4bf8-9a13-dc3307cbca51",
   "metadata": {},
   "outputs": [
    {
     "name": "stdout",
     "output_type": "stream",
     "text": [
      "Hello\n",
      "Hello\n"
     ]
    }
   ],
   "source": [
    "print(\"Hello\")\n",
    "print('Hello')"
   ]
  },
  {
   "cell_type": "code",
   "execution_count": 559,
   "id": "36fdd23c-67f3-4423-b3b9-a7d1c16b32eb",
   "metadata": {},
   "outputs": [
    {
     "name": "stdout",
     "output_type": "stream",
     "text": [
      "It's alright\n",
      "He is called 'Johnny'\n",
      "He is called \"Johnny\"\n"
     ]
    }
   ],
   "source": [
    "print(\"It's alright\")\n",
    "print(\"He is called 'Johnny'\")\n",
    "print('He is called \"Johnny\"')"
   ]
  },
  {
   "cell_type": "code",
   "execution_count": 561,
   "id": "db4193c0-0bad-4415-8d45-311dd0ea8442",
   "metadata": {},
   "outputs": [
    {
     "name": "stdout",
     "output_type": "stream",
     "text": [
      "Hello\n"
     ]
    }
   ],
   "source": [
    "a = \"Hello\"\n",
    "print(a)"
   ]
  },
  {
   "cell_type": "code",
   "execution_count": 563,
   "id": "05f08fe6-f0c9-4204-bd62-0132d1695402",
   "metadata": {},
   "outputs": [
    {
     "name": "stdout",
     "output_type": "stream",
     "text": [
      "Lorem ipsum dolor sit amet,\n",
      "consectetur adipiscing elit,\n",
      "sed do eiusmod tempor incididunt\n",
      "ut labore et dolore magna aliqua.\n"
     ]
    }
   ],
   "source": [
    "a = \"\"\"Lorem ipsum dolor sit amet,\n",
    "consectetur adipiscing elit,\n",
    "sed do eiusmod tempor incididunt\n",
    "ut labore et dolore magna aliqua.\"\"\"\n",
    "print(a)"
   ]
  },
  {
   "cell_type": "code",
   "execution_count": 565,
   "id": "8ef2cbb2-2deb-419c-b306-2af0bf573a05",
   "metadata": {},
   "outputs": [
    {
     "name": "stdout",
     "output_type": "stream",
     "text": [
      "Lorem ipsum dolor sit amet,\n",
      "consectetur adipiscing elit,\n",
      "sed do eiusmod tempor incididunt\n",
      "ut labore et dolore magna aliqua.\n"
     ]
    }
   ],
   "source": [
    "a = '''Lorem ipsum dolor sit amet,\n",
    "consectetur adipiscing elit,\n",
    "sed do eiusmod tempor incididunt\n",
    "ut labore et dolore magna aliqua.'''\n",
    "print(a)"
   ]
  },
  {
   "cell_type": "markdown",
   "id": "c8a00617-36c8-44b2-bc44-2418d893311e",
   "metadata": {},
   "source": [
    "Slicing Strings"
   ]
  },
  {
   "cell_type": "code",
   "execution_count": 568,
   "id": "df9df9e2-4443-41fa-bf48-4bedd0599783",
   "metadata": {},
   "outputs": [
    {
     "name": "stdout",
     "output_type": "stream",
     "text": [
      "llo\n"
     ]
    }
   ],
   "source": [
    "b = \"Hello, World!\"\n",
    "print(b[2:5])"
   ]
  },
  {
   "cell_type": "code",
   "execution_count": 570,
   "id": "005986b7-311f-4a27-b199-057db07525b0",
   "metadata": {},
   "outputs": [
    {
     "name": "stdout",
     "output_type": "stream",
     "text": [
      "Hello\n"
     ]
    }
   ],
   "source": [
    "b = \"Hello, World!\"\n",
    "print(b[:5])"
   ]
  },
  {
   "cell_type": "code",
   "execution_count": 572,
   "id": "a6cf297e-2060-42f9-9d5d-1675f825957d",
   "metadata": {},
   "outputs": [
    {
     "name": "stdout",
     "output_type": "stream",
     "text": [
      "llo, World!\n"
     ]
    }
   ],
   "source": [
    "b = \"Hello, World!\"\n",
    "print(b[2:])"
   ]
  },
  {
   "cell_type": "code",
   "execution_count": 574,
   "id": "20047ce4-731d-46a5-83e7-784aadfebab0",
   "metadata": {},
   "outputs": [
    {
     "name": "stdout",
     "output_type": "stream",
     "text": [
      "orl\n"
     ]
    }
   ],
   "source": [
    "b = \"Hello, World!\"\n",
    "print(b[-5:-2])"
   ]
  },
  {
   "cell_type": "markdown",
   "id": "93a63370-d3a9-41e0-8190-13642e224a4b",
   "metadata": {},
   "source": [
    "Modify Strings"
   ]
  },
  {
   "cell_type": "code",
   "execution_count": 577,
   "id": "4e715a80-0217-48ea-85a1-31410fd5a8b9",
   "metadata": {},
   "outputs": [
    {
     "name": "stdout",
     "output_type": "stream",
     "text": [
      "HELLO, WORLD!\n"
     ]
    }
   ],
   "source": [
    "a = \"Hello, World!\"\n",
    "print(a.upper())"
   ]
  },
  {
   "cell_type": "code",
   "execution_count": 579,
   "id": "55282b42-a868-4130-b73d-b4f1fc34767a",
   "metadata": {},
   "outputs": [
    {
     "name": "stdout",
     "output_type": "stream",
     "text": [
      "hello, world!\n"
     ]
    }
   ],
   "source": [
    "a = \"Hello, World!\"\n",
    "print(a.lower())"
   ]
  },
  {
   "cell_type": "code",
   "execution_count": 581,
   "id": "a9736287-930d-46be-8604-36990375946d",
   "metadata": {},
   "outputs": [
    {
     "name": "stdout",
     "output_type": "stream",
     "text": [
      "Hello, World!\n"
     ]
    }
   ],
   "source": [
    "a = \" Hello, World! \"\n",
    "print(a.strip()) # returns \"Hello, World!\""
   ]
  },
  {
   "cell_type": "code",
   "execution_count": 583,
   "id": "9b8790f1-0e91-40c3-9648-34ea97abd2e3",
   "metadata": {},
   "outputs": [
    {
     "name": "stdout",
     "output_type": "stream",
     "text": [
      "Jello, World!\n"
     ]
    }
   ],
   "source": [
    "a = \"Hello, World!\"\n",
    "print(a.replace(\"H\", \"J\"))"
   ]
  },
  {
   "cell_type": "code",
   "execution_count": 585,
   "id": "235e17a2-07e9-4c40-9ec1-c62d5bbc2824",
   "metadata": {},
   "outputs": [
    {
     "name": "stdout",
     "output_type": "stream",
     "text": [
      "['Hello', ' World!']\n"
     ]
    }
   ],
   "source": [
    "a = \"Hello, World!\"\n",
    "print(a.split(\",\")) # returns ['Hello', ' World!']"
   ]
  },
  {
   "cell_type": "markdown",
   "id": "a315aac3-e352-415d-be7c-f01640c51736",
   "metadata": {},
   "source": [
    "String Concatenation"
   ]
  },
  {
   "cell_type": "code",
   "execution_count": 588,
   "id": "87b37542-7d17-44ff-a176-f781bb484ed9",
   "metadata": {},
   "outputs": [
    {
     "name": "stdout",
     "output_type": "stream",
     "text": [
      "HelloWorld\n"
     ]
    }
   ],
   "source": [
    "a = \"Hello\"\n",
    "b = \"World\"\n",
    "c = a + b\n",
    "print(c)"
   ]
  },
  {
   "cell_type": "code",
   "execution_count": 592,
   "id": "e1bb14d0-1811-4be7-a9d9-1e828da3144d",
   "metadata": {},
   "outputs": [
    {
     "name": "stdout",
     "output_type": "stream",
     "text": [
      "Hello World\n"
     ]
    }
   ],
   "source": [
    "a = \"Hello\"\n",
    "b = \"World\"\n",
    "c = a + \" \" + b\n",
    "print(c)"
   ]
  },
  {
   "cell_type": "markdown",
   "id": "033df7f2-3703-497d-b20a-5684746d4828",
   "metadata": {},
   "source": [
    "Format - Strings"
   ]
  },
  {
   "cell_type": "code",
   "execution_count": 595,
   "id": "b13bd12a-1397-4dc9-a044-04f584717b16",
   "metadata": {},
   "outputs": [
    {
     "name": "stdout",
     "output_type": "stream",
     "text": [
      "My name is John, I am 36\n"
     ]
    }
   ],
   "source": [
    "age = 36\n",
    "txt = f\"My name is John, I am {age}\"\n",
    "print(txt)"
   ]
  },
  {
   "cell_type": "code",
   "execution_count": 597,
   "id": "783aba94-0459-4f6c-95ed-a7db97a8adb9",
   "metadata": {},
   "outputs": [
    {
     "name": "stdout",
     "output_type": "stream",
     "text": [
      "The price is 59 dollars\n"
     ]
    }
   ],
   "source": [
    "price = 59\n",
    "txt = f\"The price is {price} dollars\"\n",
    "print(txt)"
   ]
  },
  {
   "cell_type": "code",
   "execution_count": 599,
   "id": "38cda451-743d-4b44-a007-25d2501e554b",
   "metadata": {},
   "outputs": [
    {
     "name": "stdout",
     "output_type": "stream",
     "text": [
      "The price is 59.00 dollars\n"
     ]
    }
   ],
   "source": [
    "price = 59\n",
    "txt = f\"The price is {price:.2f} dollars\"\n",
    "print(txt)"
   ]
  },
  {
   "cell_type": "code",
   "execution_count": 601,
   "id": "2044a628-d4f1-43fc-842d-970a40147437",
   "metadata": {},
   "outputs": [
    {
     "name": "stdout",
     "output_type": "stream",
     "text": [
      "The price is 1180 dollars\n"
     ]
    }
   ],
   "source": [
    "txt = f\"The price is {20 * 59} dollars\"\n",
    "print(txt)"
   ]
  },
  {
   "cell_type": "markdown",
   "id": "e206915e-69b3-4033-a4ab-2ad234df35a3",
   "metadata": {},
   "source": [
    "Escape Character"
   ]
  },
  {
   "cell_type": "code",
   "execution_count": 605,
   "id": "84c9a3de-c709-4034-a09f-ea545382b84b",
   "metadata": {},
   "outputs": [],
   "source": [
    "txt = \"We are the so-called \\\"Vikings\\\" from the north.\""
   ]
  },
  {
   "cell_type": "code",
   "execution_count": 607,
   "id": "274cb079-6bf6-4ee2-a0ef-25c1a7683bf2",
   "metadata": {},
   "outputs": [
    {
     "name": "stdout",
     "output_type": "stream",
     "text": [
      "It's alright.\n"
     ]
    }
   ],
   "source": [
    "txt = 'It\\'s alright.'\n",
    "print(txt) \n"
   ]
  },
  {
   "cell_type": "code",
   "execution_count": 609,
   "id": "a337e848-ffb6-4e78-8b15-3c300c247199",
   "metadata": {},
   "outputs": [
    {
     "name": "stdout",
     "output_type": "stream",
     "text": [
      "This will insert one \\ (backslash).\n"
     ]
    }
   ],
   "source": [
    "txt = \"This will insert one \\\\ (backslash).\"\n",
    "print(txt) \n"
   ]
  },
  {
   "cell_type": "code",
   "execution_count": 611,
   "id": "57b00f22-c7e3-4a7a-aa61-5d47c5b99f37",
   "metadata": {},
   "outputs": [
    {
     "name": "stdout",
     "output_type": "stream",
     "text": [
      "Hello\n",
      "World!\n"
     ]
    }
   ],
   "source": [
    "txt = \"Hello\\nWorld!\"\n",
    "print(txt) \n"
   ]
  },
  {
   "cell_type": "code",
   "execution_count": 613,
   "id": "b7d79c4a-2dd5-4216-928b-e446d5346393",
   "metadata": {},
   "outputs": [
    {
     "name": "stdout",
     "output_type": "stream",
     "text": [
      "World!\n"
     ]
    }
   ],
   "source": [
    "txt = \"Hello\\rWorld!\"\n",
    "print(txt) "
   ]
  },
  {
   "cell_type": "code",
   "execution_count": 615,
   "id": "0eba7363-69f6-4776-b216-d149a4b5e92a",
   "metadata": {},
   "outputs": [
    {
     "name": "stdout",
     "output_type": "stream",
     "text": [
      "Hello\tWorld!\n"
     ]
    }
   ],
   "source": [
    "txt = \"Hello\\tWorld!\"\n",
    "print(txt) "
   ]
  },
  {
   "cell_type": "code",
   "execution_count": 617,
   "id": "8cd84b75-5202-4f69-a0b1-041ed49c6f0f",
   "metadata": {},
   "outputs": [
    {
     "name": "stdout",
     "output_type": "stream",
     "text": [
      "HelloWorld!\n"
     ]
    }
   ],
   "source": [
    "txt = \"Hello \\bWorld!\"\n",
    "print(txt) \n"
   ]
  },
  {
   "cell_type": "code",
   "execution_count": 619,
   "id": "fe2a663e-69c6-42a4-a239-e7fdee61337d",
   "metadata": {},
   "outputs": [
    {
     "name": "stdout",
     "output_type": "stream",
     "text": [
      "Hello\n"
     ]
    }
   ],
   "source": [
    "#A backslash followed by three integers will result in a octal value:\n",
    "txt = \"\\110\\145\\154\\154\\157\"\n",
    "print(txt) "
   ]
  },
  {
   "cell_type": "code",
   "execution_count": 621,
   "id": "33cb1a08-873a-4440-89a3-0ada7dc99ba0",
   "metadata": {},
   "outputs": [
    {
     "name": "stdout",
     "output_type": "stream",
     "text": [
      "Hello\n"
     ]
    }
   ],
   "source": [
    "#A backslash followed by an 'x' and a hex number represents a hex value:\n",
    "txt = \"\\x48\\x65\\x6c\\x6c\\x6f\"\n",
    "print(txt) \n"
   ]
  },
  {
   "cell_type": "code",
   "execution_count": null,
   "id": "8d5f9f03-cc4a-4601-9792-ce8d8a78238f",
   "metadata": {},
   "outputs": [],
   "source": []
  }
 ],
 "metadata": {
  "kernelspec": {
   "display_name": "Python [conda env:base] *",
   "language": "python",
   "name": "conda-base-py"
  },
  "language_info": {
   "codemirror_mode": {
    "name": "ipython",
    "version": 3
   },
   "file_extension": ".py",
   "mimetype": "text/x-python",
   "name": "python",
   "nbconvert_exporter": "python",
   "pygments_lexer": "ipython3",
   "version": "3.12.7"
  }
 },
 "nbformat": 4,
 "nbformat_minor": 5
}
